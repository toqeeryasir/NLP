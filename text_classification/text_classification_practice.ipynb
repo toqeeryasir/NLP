{
 "cells": [
  {
   "cell_type": "code",
   "execution_count": 1,
   "id": "e5c48cfa-6126-45c2-b788-2da1e030162a",
   "metadata": {},
   "outputs": [],
   "source": [
    "import numpy as np\n",
    "import pandas as pd\n",
    "from tqdm.auto import tqdm"
   ]
  },
  {
   "cell_type": "code",
   "execution_count": 2,
   "id": "74620a1c-48de-492c-95a7-3de57f0c0f06",
   "metadata": {},
   "outputs": [],
   "source": [
    "df = pd.read_csv(\"IMDB_Dataset.zip\")"
   ]
  },
  {
   "cell_type": "code",
   "execution_count": 3,
   "id": "31b69c93-7ae9-4ce3-922a-c3de05162c34",
   "metadata": {},
   "outputs": [
    {
     "data": {
      "text/plain": [
       "(50000, 2)"
      ]
     },
     "execution_count": 3,
     "metadata": {},
     "output_type": "execute_result"
    }
   ],
   "source": [
    "df.shape"
   ]
  },
  {
   "cell_type": "code",
   "execution_count": 4,
   "id": "19b011e5-5640-4495-ad22-5751d835f285",
   "metadata": {},
   "outputs": [],
   "source": [
    "df = df[:10000]"
   ]
  },
  {
   "cell_type": "code",
   "execution_count": 5,
   "id": "e1fb3cb2-8fcc-4414-a389-2094168fc6ae",
   "metadata": {},
   "outputs": [
    {
     "data": {
      "text/html": [
       "<div>\n",
       "<style scoped>\n",
       "    .dataframe tbody tr th:only-of-type {\n",
       "        vertical-align: middle;\n",
       "    }\n",
       "\n",
       "    .dataframe tbody tr th {\n",
       "        vertical-align: top;\n",
       "    }\n",
       "\n",
       "    .dataframe thead th {\n",
       "        text-align: right;\n",
       "    }\n",
       "</style>\n",
       "<table border=\"1\" class=\"dataframe\">\n",
       "  <thead>\n",
       "    <tr style=\"text-align: right;\">\n",
       "      <th></th>\n",
       "      <th>review</th>\n",
       "      <th>sentiment</th>\n",
       "    </tr>\n",
       "  </thead>\n",
       "  <tbody>\n",
       "    <tr>\n",
       "      <th>0</th>\n",
       "      <td>One of the other reviewers has mentioned that ...</td>\n",
       "      <td>positive</td>\n",
       "    </tr>\n",
       "    <tr>\n",
       "      <th>1</th>\n",
       "      <td>A wonderful little production. &lt;br /&gt;&lt;br /&gt;The...</td>\n",
       "      <td>positive</td>\n",
       "    </tr>\n",
       "    <tr>\n",
       "      <th>2</th>\n",
       "      <td>I thought this was a wonderful way to spend ti...</td>\n",
       "      <td>positive</td>\n",
       "    </tr>\n",
       "    <tr>\n",
       "      <th>3</th>\n",
       "      <td>Basically there's a family where a little boy ...</td>\n",
       "      <td>negative</td>\n",
       "    </tr>\n",
       "    <tr>\n",
       "      <th>4</th>\n",
       "      <td>Petter Mattei's \"Love in the Time of Money\" is...</td>\n",
       "      <td>positive</td>\n",
       "    </tr>\n",
       "  </tbody>\n",
       "</table>\n",
       "</div>"
      ],
      "text/plain": [
       "                                              review sentiment\n",
       "0  One of the other reviewers has mentioned that ...  positive\n",
       "1  A wonderful little production. <br /><br />The...  positive\n",
       "2  I thought this was a wonderful way to spend ti...  positive\n",
       "3  Basically there's a family where a little boy ...  negative\n",
       "4  Petter Mattei's \"Love in the Time of Money\" is...  positive"
      ]
     },
     "execution_count": 5,
     "metadata": {},
     "output_type": "execute_result"
    }
   ],
   "source": [
    "df.head()"
   ]
  },
  {
   "cell_type": "code",
   "execution_count": 6,
   "id": "7c29b8b1-76b9-4fc8-98f8-e24916197f0a",
   "metadata": {},
   "outputs": [
    {
     "data": {
      "text/plain": [
       "(10000, 2)"
      ]
     },
     "execution_count": 6,
     "metadata": {},
     "output_type": "execute_result"
    }
   ],
   "source": [
    "df.shape"
   ]
  },
  {
   "cell_type": "code",
   "execution_count": 7,
   "id": "11d427e6-2fc8-4d87-838a-45aed27f3b10",
   "metadata": {},
   "outputs": [
    {
     "data": {
      "text/plain": [
       "review       0\n",
       "sentiment    0\n",
       "dtype: int64"
      ]
     },
     "execution_count": 7,
     "metadata": {},
     "output_type": "execute_result"
    }
   ],
   "source": [
    "df.isnull().sum()"
   ]
  },
  {
   "cell_type": "code",
   "execution_count": 8,
   "id": "6a36e2c3-97be-4ec3-b2b6-fe2c50ff8414",
   "metadata": {},
   "outputs": [],
   "source": [
    "from bs4 import BeautifulSoup"
   ]
  },
  {
   "cell_type": "code",
   "execution_count": 9,
   "id": "53abd608-e93a-4533-8b07-c03f0af294f8",
   "metadata": {},
   "outputs": [],
   "source": [
    "def remove_html_tags(text):\n",
    "    soup = BeautifulSoup(text, \"html.parser\")\n",
    "    return soup.get_text(separator=\" \", strip=True)"
   ]
  },
  {
   "cell_type": "code",
   "execution_count": 10,
   "id": "fb007700-b6e6-4d30-b692-31188c16951e",
   "metadata": {},
   "outputs": [
    {
     "name": "stderr",
     "output_type": "stream",
     "text": [
      "/tmp/ipykernel_12423/3157248265.py:2: MarkupResemblesLocatorWarning: The input looks more like a filename than markup. You may want to open this file and pass the filehandle into Beautiful Soup.\n",
      "  soup = BeautifulSoup(text, \"html.parser\")\n"
     ]
    },
    {
     "data": {
      "application/vnd.jupyter.widget-view+json": {
       "model_id": "67ae93375c1740b08b534335cb9885c7",
       "version_major": 2,
       "version_minor": 0
      },
      "text/plain": [
       "  0%|          | 0/10000 [00:00<?, ?it/s]"
      ]
     },
     "metadata": {},
     "output_type": "display_data"
    }
   ],
   "source": [
    "df[\"review\"] = tqdm(df[\"review\"].apply(remove_html_tags))"
   ]
  },
  {
   "cell_type": "code",
   "execution_count": 11,
   "id": "548ef082-7803-485d-9b42-022097f131bd",
   "metadata": {},
   "outputs": [
    {
     "data": {
      "text/plain": [
       "\"One of the other reviewers has mentioned that after watching just 1 Oz episode you'll be hooked. They are right, as this is exactly what happened with me. The first thing that struck me about Oz was its brutality and unflinching scenes of violence, which set in right from the word GO. Trust me, this is not a show for the faint hearted or timid. This show pulls no punches with regards to drugs, sex or violence. Its is hardcore, in the classic use of the word. It is called OZ as that is the nickname given to the Oswald Maximum Security State Penitentary. It focuses mainly on Emerald City, an experimental section of the prison where all the cells have glass fronts and face inwards, so privacy is not high on the agenda. Em City is home to many..Aryans, Muslims, gangstas, Latinos, Christians, Italians, Irish and more....so scuffles, death stares, dodgy dealings and shady agreements are never far away. I would say the main appeal of the show is due to the fact that it goes where other shows wouldn't dare. Forget pretty pictures painted for mainstream audiences, forget charm, forget romance...OZ doesn't mess around. The first episode I ever saw struck me as so nasty it was surreal, I couldn't say I was ready for it, but as I watched more, I developed a taste for Oz, and got accustomed to the high levels of graphic violence. Not just violence, but injustice (crooked guards who'll be sold out for a nickel, inmates who'll kill on order and get away with it, well mannered, middle class inmates being turned into prison bitches due to their lack of street skills or prison experience) Watching Oz, you may become comfortable with what is uncomfortable viewing....thats if you can get in touch with your darker side.\""
      ]
     },
     "execution_count": 11,
     "metadata": {},
     "output_type": "execute_result"
    }
   ],
   "source": [
    "df[\"review\"][0]"
   ]
  },
  {
   "cell_type": "code",
   "execution_count": 12,
   "id": "c9194bca-74a9-4017-ae5b-85c9379753fc",
   "metadata": {},
   "outputs": [
    {
     "data": {
      "text/plain": [
       "'!\"#$%&\\'()*+,-./:;<=>?@[\\\\]^_`{|}~'"
      ]
     },
     "execution_count": 12,
     "metadata": {},
     "output_type": "execute_result"
    }
   ],
   "source": [
    "import string\n",
    "\n",
    "string.punctuation"
   ]
  },
  {
   "cell_type": "code",
   "execution_count": 13,
   "id": "34616281-01ba-4010-b3dc-c05737812587",
   "metadata": {},
   "outputs": [],
   "source": [
    "# !python -m spacy download en_core_web_md\n",
    "import spacy\n",
    "\n",
    "nlp = spacy.load(\"en_core_web_sm\", disable=[\"parser\", \"ner\"])"
   ]
  },
  {
   "cell_type": "code",
   "execution_count": 14,
   "id": "cbe94aae-c265-4b28-b06e-202e3f79dc9f",
   "metadata": {},
   "outputs": [],
   "source": [
    "def text_preprocessing(text):\n",
    "    return [\n",
    "        [token.lemma_ for token in doc if not token.is_punct and not token.is_stop]\n",
    "        for doc in tqdm(\n",
    "            nlp.pipe(\n",
    "                text.astype(str).str.lower().str.strip().tolist(), batch_size=1000\n",
    "            ),\n",
    "            total=len(text),\n",
    "        )\n",
    "    ]"
   ]
  },
  {
   "cell_type": "code",
   "execution_count": 15,
   "id": "a4c11e28-cfb3-4dc7-8f74-170411ed8ccd",
   "metadata": {},
   "outputs": [
    {
     "data": {
      "application/vnd.jupyter.widget-view+json": {
       "model_id": "e85aa18f279f466a979c2ba250147fe5",
       "version_major": 2,
       "version_minor": 0
      },
      "text/plain": [
       "  0%|          | 0/10000 [00:00<?, ?it/s]"
      ]
     },
     "metadata": {},
     "output_type": "display_data"
    }
   ],
   "source": [
    "df[\"review\"] = text_preprocessing(df[\"review\"])"
   ]
  },
  {
   "cell_type": "code",
   "execution_count": 16,
   "id": "055dbfc6-88d4-4cc0-9a5d-b53bf7072350",
   "metadata": {},
   "outputs": [
    {
     "data": {
      "text/html": [
       "<div>\n",
       "<style scoped>\n",
       "    .dataframe tbody tr th:only-of-type {\n",
       "        vertical-align: middle;\n",
       "    }\n",
       "\n",
       "    .dataframe tbody tr th {\n",
       "        vertical-align: top;\n",
       "    }\n",
       "\n",
       "    .dataframe thead th {\n",
       "        text-align: right;\n",
       "    }\n",
       "</style>\n",
       "<table border=\"1\" class=\"dataframe\">\n",
       "  <thead>\n",
       "    <tr style=\"text-align: right;\">\n",
       "      <th></th>\n",
       "      <th>review</th>\n",
       "      <th>sentiment</th>\n",
       "    </tr>\n",
       "  </thead>\n",
       "  <tbody>\n",
       "    <tr>\n",
       "      <th>0</th>\n",
       "      <td>[reviewer, mention, watch, 1, oz, episode, hoo...</td>\n",
       "      <td>positive</td>\n",
       "    </tr>\n",
       "    <tr>\n",
       "      <th>1</th>\n",
       "      <td>[wonderful, little, production, filming, techn...</td>\n",
       "      <td>positive</td>\n",
       "    </tr>\n",
       "    <tr>\n",
       "      <th>2</th>\n",
       "      <td>[think, wonderful, way, spend, time, hot, summ...</td>\n",
       "      <td>positive</td>\n",
       "    </tr>\n",
       "    <tr>\n",
       "      <th>3</th>\n",
       "      <td>[basically, family, little, boy, jake, think, ...</td>\n",
       "      <td>negative</td>\n",
       "    </tr>\n",
       "    <tr>\n",
       "      <th>4</th>\n",
       "      <td>[petter, mattei, love, time, money, visually, ...</td>\n",
       "      <td>positive</td>\n",
       "    </tr>\n",
       "  </tbody>\n",
       "</table>\n",
       "</div>"
      ],
      "text/plain": [
       "                                              review sentiment\n",
       "0  [reviewer, mention, watch, 1, oz, episode, hoo...  positive\n",
       "1  [wonderful, little, production, filming, techn...  positive\n",
       "2  [think, wonderful, way, spend, time, hot, summ...  positive\n",
       "3  [basically, family, little, boy, jake, think, ...  negative\n",
       "4  [petter, mattei, love, time, money, visually, ...  positive"
      ]
     },
     "execution_count": 16,
     "metadata": {},
     "output_type": "execute_result"
    }
   ],
   "source": [
    "df.head()"
   ]
  },
  {
   "cell_type": "code",
   "execution_count": 17,
   "id": "883fcd81-51e7-4c19-805c-0a86ce53401a",
   "metadata": {},
   "outputs": [
    {
     "name": "stdout",
     "output_type": "stream",
     "text": [
      "[['reviewer', 'mention', 'watch', '1', 'oz', 'episode', 'hook', 'right', 'exactly', 'happen', 'thing', 'strike', 'oz', 'brutality', 'unflinche', 'scene', 'violence', 'set', 'right', 'word', 'trust', 'faint', 'hearted', 'timid', 'pull', 'punch', 'regard', 'drug', 'sex', 'violence', 'hardcore', 'classic', 'use', 'word', 'call', 'oz', 'nickname', 'give', 'oswald', 'maximum', 'security', 'state', 'penitentary', 'focus', 'mainly', 'emerald', 'city', 'experimental', 'section', 'prison', 'cell', 'glass', 'front', 'face', 'inward', 'privacy', 'high', 'agenda', 'em', 'city', 'home', 'aryan', 'muslim', 'gangsta', 'latinos', 'christians', 'italian', 'irish', 'scuffle', 'death', 'stare', 'dodgy', 'dealing', 'shady', 'agreement', 'far', 'away', 'main', 'appeal', 'fact', 'go', 'show', 'dare', 'forget', 'pretty', 'picture', 'paint', 'mainstream', 'audience', 'forget', 'charm', 'forget', 'romance', 'oz', 'mess', 'episode', 'see', 'strike', 'nasty', 'surreal', 'ready', 'watch', 'develop', 'taste', 'oz', 'get', 'accustom', 'high', 'level', 'graphic', 'violence', 'violence', 'injustice', 'crooked', 'guard', 'sell', 'nickel', 'inmate', 'kill', 'order', 'away', 'mannered', 'middle', 'class', 'inmate', 'turn', 'prison', 'bitch', 'lack', 'street', 'skill', 'prison', 'experience', 'watch', 'oz', 'comfortable', 'uncomfortable', 'view', 'that', 'touch', 'dark'], ['wonderful', 'little', 'production', 'filming', 'technique', 'unassuming-', 'old', 'time', 'bbc', 'fashion', 'give', 'comforting', 'discomforte', 'sense', 'realism', 'entire', 'piece', 'actor', 'extremely', 'chosen-', 'michael', 'sheen', 'get', 'polari', 'voice', 'pat', 'truly', 'seamless', 'editing', 'guide', 'reference', 'williams', 'diary', 'entry', 'worth', 'watching', 'terrificly', 'write', 'perform', 'piece', 'masterful', 'production', 'great', 'master', 'comedy', 'life', 'realism', 'come', 'home', 'little', 'thing', 'fantasy', 'guard', 'use', 'traditional', 'dream', 'technique', 'remain', 'solid', 'disappear', 'play', 'knowledge', 'sense', 'particularly', 'scene', 'concern', 'orton', 'halliwell', 'set', 'particularly', 'flat', 'halliwell', 'mural', 'decorate', 'surface', 'terribly']]\n"
     ]
    }
   ],
   "source": [
    "sentence_lists = df[\"review\"].tolist()\n",
    "print(sentence_lists[:2])"
   ]
  },
  {
   "cell_type": "code",
   "execution_count": 18,
   "id": "3e5f65e3-4821-48dc-8324-f59d35f1cf8f",
   "metadata": {},
   "outputs": [],
   "source": [
    "def tokens_into_strings(token_lists):\n",
    "    return [\" \".join(lst) for lst in token_lists]"
   ]
  },
  {
   "cell_type": "code",
   "execution_count": 19,
   "id": "893813e0-6fa5-4d6c-a3d6-3c81439e5820",
   "metadata": {},
   "outputs": [
    {
     "data": {
      "text/plain": [
       "['reviewer mention watch 1 oz episode hook right exactly happen thing strike oz brutality unflinche scene violence set right word trust faint hearted timid pull punch regard drug sex violence hardcore classic use word call oz nickname give oswald maximum security state penitentary focus mainly emerald city experimental section prison cell glass front face inward privacy high agenda em city home aryan muslim gangsta latinos christians italian irish scuffle death stare dodgy dealing shady agreement far away main appeal fact go show dare forget pretty picture paint mainstream audience forget charm forget romance oz mess episode see strike nasty surreal ready watch develop taste oz get accustom high level graphic violence violence injustice crooked guard sell nickel inmate kill order away mannered middle class inmate turn prison bitch lack street skill prison experience watch oz comfortable uncomfortable view that touch dark',\n",
       " 'wonderful little production filming technique unassuming- old time bbc fashion give comforting discomforte sense realism entire piece actor extremely chosen- michael sheen get polari voice pat truly seamless editing guide reference williams diary entry worth watching terrificly write perform piece masterful production great master comedy life realism come home little thing fantasy guard use traditional dream technique remain solid disappear play knowledge sense particularly scene concern orton halliwell set particularly flat halliwell mural decorate surface terribly',\n",
       " 'think wonderful way spend time hot summer weekend sit air condition theater watch light hearted comedy plot simplistic dialogue witty character likable bread suspect serial killer disappoint realize match point 2 risk addiction think proof woody allen fully control style grow love laugh woody comedy year dare decade impress scarlet johanson manage tone sexy image jump right average spirited young woman crown jewel career witty devil wear prada interesting superman great comedy friend',\n",
       " 'basically family little boy jake think zombie closet parent fight time movie slow soap opera suddenly jake decide rambo kill zombie ok go film decide thriller drama drama movie watchable parent divorce argue like real life jake closet totally ruin film expect boogeyman similar movie instead watch drama meaningless thriller spot 3 10 play parent descent dialog shot jake ignore',\n",
       " 'petter mattei love time money visually stunning film watch mr mattei offer vivid portrait human relation movie tell money power success people different situation encounter variation arthur schnitzler play theme director transfer action present time new york different character meet connect connect way person know previous point contact stylishly film sophisticated luxurious look take people live world live habitat thing get soul picture different stage loneliness inhabit big city exactly good place human relation find sincere fulfillment discern case people encounter acting good mr mattei direction steve buscemi rosario dawson carol kane michael imperioli adrian grenier rest talented cast character come alive wish mr mattei good luck await anxiously work']"
      ]
     },
     "execution_count": 19,
     "metadata": {},
     "output_type": "execute_result"
    }
   ],
   "source": [
    "tokens_strings = tokens_into_strings(df[\"review\"])\n",
    "tokens_strings[:5]"
   ]
  },
  {
   "cell_type": "markdown",
   "id": "22f37088-6bb2-43a5-b79f-5213019d7b04",
   "metadata": {},
   "source": [
    "# Applying text representation techniques:"
   ]
  },
  {
   "cell_type": "markdown",
   "id": "92f87d8a-db49-4523-8a68-0ca4e2d7adbf",
   "metadata": {},
   "source": [
    "## Tfidf vectorization:"
   ]
  },
  {
   "cell_type": "code",
   "execution_count": 20,
   "id": "85b03775-5bf4-4a6b-9295-c109b4e9acbd",
   "metadata": {},
   "outputs": [],
   "source": [
    "from sklearn.feature_extraction.text import TfidfVectorizer\n",
    "\n",
    "tfidf = TfidfVectorizer()\n",
    "df_vecs = tfidf.fit_transform(tokens_strings)"
   ]
  },
  {
   "cell_type": "code",
   "execution_count": 21,
   "id": "3ec3a0ae-f897-48d1-a498-983b2c67b0ef",
   "metadata": {},
   "outputs": [
    {
     "name": "stdout",
     "output_type": "stream",
     "text": [
      "  (0, 32190)\t0.06288074908836157\n",
      "  (0, 24592)\t0.04900345506642814\n",
      "  (0, 41790)\t0.07520229196016928\n",
      "  (0, 27951)\t0.4911919661627683\n",
      "  (0, 12805)\t0.09871143458569412\n",
      "  (0, 18264)\t0.06802132824254413\n",
      "  (0, 32363)\t0.07899293270684586\n",
      "  (0, 13167)\t0.054497507593535256\n",
      "  (0, 17231)\t0.03960520166543676\n",
      "  (0, 38391)\t0.030293902110014037\n",
      "  (0, 36797)\t0.12890106714262967\n",
      "  (0, 5439)\t0.08646353561999769\n",
      "  (0, 40179)\t0.11393869098948975\n",
      "  (0, 33570)\t0.029145077371737906\n",
      "  (0, 41319)\t0.21770339389715013\n",
      "  (0, 34242)\t0.03943167614584476\n",
      "  (0, 42611)\t0.09155255657732388\n",
      "  (0, 39444)\t0.06690683151533683\n",
      "  (0, 13563)\t0.08742589358031894\n",
      "  (0, 17558)\t0.07140847925447974\n",
      "  (0, 38624)\t0.10020111330474372\n",
      "  (0, 30545)\t0.053730976265917746\n",
      "  (0, 30569)\t0.0708647204511568\n",
      "  (0, 31590)\t0.06681027132827676\n",
      "  (0, 11654)\t0.058239385012031256\n",
      "  :\t:\n",
      "  (0, 22368)\t0.05288178181175004\n",
      "  (0, 16426)\t0.06643131862835731\n",
      "  (0, 19462)\t0.08902438368454765\n",
      "  (0, 9049)\t0.08902438368454765\n",
      "  (0, 16741)\t0.07168949067793652\n",
      "  (0, 34061)\t0.06161254228367479\n",
      "  (0, 26595)\t0.10527124448618418\n",
      "  (0, 19469)\t0.18762700688506267\n",
      "  (0, 21262)\t0.04223274576836459\n",
      "  (0, 27544)\t0.05232593554292572\n",
      "  (0, 23682)\t0.09085758420154368\n",
      "  (0, 24799)\t0.05519956835173652\n",
      "  (0, 7387)\t0.0553525302846239\n",
      "  (0, 39555)\t0.03830958397290323\n",
      "  (0, 4322)\t0.08321848252455151\n",
      "  (0, 21763)\t0.046029267769470424\n",
      "  (0, 36759)\t0.05703877150046032\n",
      "  (0, 35127)\t0.06588358951794038\n",
      "  (0, 13327)\t0.04902663298240153\n",
      "  (0, 7860)\t0.07980109091241777\n",
      "  (0, 39908)\t0.0775666426408948\n",
      "  (0, 41237)\t0.04680104580638637\n",
      "  (0, 38282)\t0.0792689049762675\n",
      "  (0, 38968)\t0.053299171696266634\n",
      "  (0, 9587)\t0.05039836112825146\n"
     ]
    }
   ],
   "source": [
    "print(df_vecs[:1, :])"
   ]
  },
  {
   "cell_type": "code",
   "execution_count": 22,
   "id": "f34c6d83-1cb2-4ef9-91d7-c22110b12a00",
   "metadata": {},
   "outputs": [],
   "source": [
    "df_tfidf = pd.DataFrame.sparse.from_spmatrix(\n",
    "    df_vecs, columns=tfidf.get_feature_names_out()\n",
    ")"
   ]
  },
  {
   "cell_type": "code",
   "execution_count": 23,
   "id": "8437ff7d-642a-479d-8299-91cf7db21805",
   "metadata": {},
   "outputs": [
    {
     "data": {
      "text/plain": [
       "00            False\n",
       "000           False\n",
       "00001         False\n",
       "0069          False\n",
       "007           False\n",
       "              ...  \n",
       "óli           False\n",
       "önsjön        False\n",
       "über          False\n",
       "überwoman     False\n",
       "ünfaithful    False\n",
       "Length: 43349, dtype: Sparse[bool, False]"
      ]
     },
     "execution_count": 23,
     "metadata": {},
     "output_type": "execute_result"
    }
   ],
   "source": [
    "df_tfidf.isnull().sum()"
   ]
  },
  {
   "cell_type": "code",
   "execution_count": 24,
   "id": "cbd3fc0f-4d6d-4fb3-a07a-e2ab48d326e9",
   "metadata": {},
   "outputs": [
    {
     "name": "stdout",
     "output_type": "stream",
     "text": [
      "\n",
      "Non zero values in row no. 0:\n",
      " oz          0.491192\n",
      "violence    0.217703\n",
      "prison      0.201307\n",
      "inmate      0.187627\n",
      "forget      0.152219\n",
      "Name: 0, dtype: Sparse[float64, 0]\n"
     ]
    }
   ],
   "source": [
    "x = 0\n",
    "print(\n",
    "    f\"\\nNon zero values in row no. {x}:\\n\",\n",
    "    df_tfidf.iloc[x].sort_values(ascending=False).head(),\n",
    ")"
   ]
  },
  {
   "cell_type": "code",
   "execution_count": 25,
   "id": "7b9999c6-02fa-4cbd-9443-cecb751257b2",
   "metadata": {},
   "outputs": [
    {
     "data": {
      "text/plain": [
       "0    positive\n",
       "1    positive\n",
       "2    positive\n",
       "3    negative\n",
       "4    positive\n",
       "Name: sentiment, dtype: object"
      ]
     },
     "execution_count": 25,
     "metadata": {},
     "output_type": "execute_result"
    }
   ],
   "source": [
    "y = df[\"sentiment\"]\n",
    "y.head()"
   ]
  },
  {
   "cell_type": "code",
   "execution_count": 26,
   "id": "4b9cfdde-d1ef-402f-84d6-d9ccf1074fb0",
   "metadata": {},
   "outputs": [
    {
     "data": {
      "text/plain": [
       "(10000,)"
      ]
     },
     "execution_count": 26,
     "metadata": {},
     "output_type": "execute_result"
    }
   ],
   "source": [
    "y.shape"
   ]
  },
  {
   "cell_type": "code",
   "execution_count": 27,
   "id": "7dfdce10-782c-498f-849d-092a050cb172",
   "metadata": {},
   "outputs": [],
   "source": [
    "from sklearn.ensemble import RandomForestClassifier\n",
    "from sklearn.metrics import accuracy_score\n",
    "from sklearn.model_selection import train_test_split\n",
    "from sklearn.naive_bayes import MultinomialNB"
   ]
  },
  {
   "cell_type": "code",
   "execution_count": 28,
   "id": "a10e7b35-8456-4034-ae51-b606ecf2936a",
   "metadata": {},
   "outputs": [],
   "source": [
    "x_train, x_test, y_train, y_test = train_test_split(df_tfidf, y, test_size=0.2, random_state=False)"
   ]
  },
  {
   "cell_type": "code",
   "execution_count": 29,
   "id": "72e8a077-0a78-42d1-a2fb-50accdfcdcc8",
   "metadata": {},
   "outputs": [],
   "source": [
    "rmf = RandomForestClassifier(n_jobs=-1)\n",
    "nb = MultinomialNB()"
   ]
  },
  {
   "cell_type": "code",
   "execution_count": 30,
   "id": "8395da19-5f73-457d-8596-8f58911d5b2f",
   "metadata": {},
   "outputs": [],
   "source": [
    "rmf.fit(x_train, y_train)\n",
    "nb.fit(x_train, y_train)\n",
    "y_pred1 = rmf.predict(x_test)\n",
    "y_pred2 = nb.predict(x_test)"
   ]
  },
  {
   "cell_type": "code",
   "execution_count": 31,
   "id": "6b84e15d-143b-4044-87b5-abbb97dd6a72",
   "metadata": {},
   "outputs": [
    {
     "name": "stdout",
     "output_type": "stream",
     "text": [
      "Random_forest:  84.85000000000001\n",
      "Naive_bayse:  84.45\n"
     ]
    }
   ],
   "source": [
    "print(\"Random_forest: \", accuracy_score(y_test, y_pred1) * 100)\n",
    "print(\"Naive_bayse: \", accuracy_score(y_test, y_pred2) * 100)"
   ]
  },
  {
   "cell_type": "markdown",
   "id": "def50552-8884-4df1-8e56-b1a06d21d93c",
   "metadata": {},
   "source": [
    "## word2vec:"
   ]
  },
  {
   "cell_type": "code",
   "execution_count": 32,
   "id": "0b9aa582-3a59-4b5d-b698-e3992f855103",
   "metadata": {},
   "outputs": [],
   "source": [
    "from gensim.models import Word2Vec"
   ]
  },
  {
   "cell_type": "code",
   "execution_count": 33,
   "id": "1d765550-af8e-4e8b-9b09-7326657dea2d",
   "metadata": {},
   "outputs": [],
   "source": [
    "w2v = Word2Vec(sentences=sentence_lists, window=2, vector_size=100, workers=4)"
   ]
  },
  {
   "cell_type": "code",
   "execution_count": 34,
   "id": "cbe44441-6125-41a5-b26d-e1f5cb108e66",
   "metadata": {},
   "outputs": [],
   "source": [
    "w2v.save(\"word2vec_on_IMDB.model\")"
   ]
  },
  {
   "cell_type": "code",
   "execution_count": 35,
   "id": "9a23859d-4153-4ebb-9e8a-8716c8a6f22e",
   "metadata": {},
   "outputs": [],
   "source": [
    "def document_vector(doc, model):\n",
    "    # Remove out-of-vocabulary words\n",
    "    words = [word for word in doc if word in model.wv.key_to_index]\n",
    "    return np.mean([model.wv[word] for word in words], axis=0)"
   ]
  },
  {
   "cell_type": "code",
   "execution_count": 36,
   "id": "c112106c-5691-4a6d-8647-45eb35804c80",
   "metadata": {},
   "outputs": [],
   "source": [
    "x = np.array([document_vector(doc, w2v) for doc in sentence_lists])"
   ]
  },
  {
   "cell_type": "code",
   "execution_count": 37,
   "id": "e7b615de-253a-47d1-9c01-59aaa9a00a27",
   "metadata": {},
   "outputs": [
    {
     "data": {
      "text/plain": [
       "(10000, 100)"
      ]
     },
     "execution_count": 37,
     "metadata": {},
     "output_type": "execute_result"
    }
   ],
   "source": [
    "x.shape"
   ]
  },
  {
   "cell_type": "code",
   "execution_count": 38,
   "id": "4f03a1eb-d0c1-4e31-8bdc-ef897a82a16c",
   "metadata": {},
   "outputs": [],
   "source": [
    "x_train, x_test, y_train, y_test = train_test_split(x, y, test_size=0.2, random_state=False)"
   ]
  },
  {
   "cell_type": "code",
   "execution_count": 39,
   "id": "8b811e02-97cf-4e3a-a454-2fc6589a9eb8",
   "metadata": {},
   "outputs": [],
   "source": [
    "rmf = RandomForestClassifier(n_jobs=-1)\n",
    "nb = MultinomialNB()"
   ]
  },
  {
   "cell_type": "code",
   "execution_count": 40,
   "id": "b6161219-6a0e-4283-91e2-e2ab2e012b4c",
   "metadata": {},
   "outputs": [],
   "source": [
    "from sklearn.preprocessing import MinMaxScaler\n",
    "\n",
    "scaler = MinMaxScaler()\n",
    "x_train_nonneg = scaler.fit_transform(x_train)  # Now all values >= 0\n",
    "x_test_nonneg = scaler.fit_transform(x_test)  # Now all values >= 0"
   ]
  },
  {
   "cell_type": "code",
   "execution_count": 41,
   "id": "51b2319c-48b4-41f5-805f-73276edf076c",
   "metadata": {},
   "outputs": [],
   "source": [
    "rmf.fit(x_train, y_train)\n",
    "nb.fit(x_train_nonneg, y_train)\n",
    "y_pred1 = rmf.predict(x_test)\n",
    "y_pred2 = nb.predict(x_test)"
   ]
  },
  {
   "cell_type": "code",
   "execution_count": 42,
   "id": "cc4217e6-9381-4940-bc92-9518c29bc767",
   "metadata": {},
   "outputs": [
    {
     "name": "stdout",
     "output_type": "stream",
     "text": [
      "Random_forest:  77.0\n",
      "Naive_bayse:  49.15\n"
     ]
    }
   ],
   "source": [
    "print(\"Random_forest: \", accuracy_score(y_test, y_pred1) * 100)\n",
    "print(\"Naive_bayse: \", accuracy_score(y_test, y_pred2) * 100)"
   ]
  },
  {
   "cell_type": "markdown",
   "id": "4313dd91-8ea4-4357-bdaa-46c4d15411ae",
   "metadata": {},
   "source": [
    "## Bag of words:"
   ]
  },
  {
   "cell_type": "code",
   "execution_count": 43,
   "id": "f5895329-05be-4c6e-afe6-186983394f30",
   "metadata": {},
   "outputs": [],
   "source": [
    "from sklearn.feature_extraction.text import CountVectorizer"
   ]
  },
  {
   "cell_type": "code",
   "execution_count": 44,
   "id": "da4e3b98-4cc8-44dc-8607-879c65ddb6af",
   "metadata": {},
   "outputs": [],
   "source": [
    "cv = CountVectorizer()\n",
    "vectors_bow = cv.fit_transform(tokens_strings)"
   ]
  },
  {
   "cell_type": "code",
   "execution_count": 45,
   "id": "8631699b-cc0e-4dc7-ab1f-d244d34c630f",
   "metadata": {},
   "outputs": [
    {
     "name": "stdout",
     "output_type": "stream",
     "text": [
      "  (0, 32190)\t1\n",
      "  (0, 24592)\t1\n",
      "  (0, 41790)\t3\n",
      "  (0, 27951)\t6\n",
      "  (0, 12805)\t2\n",
      "  (0, 18264)\t1\n",
      "  (0, 32363)\t2\n",
      "  (0, 13167)\t1\n",
      "  (0, 17231)\t1\n",
      "  (0, 38391)\t1\n",
      "  (0, 36797)\t2\n",
      "  (0, 5439)\t1\n",
      "  (0, 40179)\t1\n",
      "  (0, 33570)\t1\n",
      "  (0, 41319)\t4\n",
      "  (0, 34242)\t1\n",
      "  (0, 42611)\t2\n",
      "  (0, 39444)\t1\n",
      "  (0, 13563)\t1\n",
      "  (0, 17558)\t1\n",
      "  (0, 38624)\t1\n",
      "  (0, 30545)\t1\n",
      "  (0, 30569)\t1\n",
      "  (0, 31590)\t1\n",
      "  (0, 11654)\t1\n",
      "  :\t:\n",
      "  (0, 22368)\t1\n",
      "  (0, 16426)\t1\n",
      "  (0, 19462)\t1\n",
      "  (0, 9049)\t1\n",
      "  (0, 16741)\t1\n",
      "  (0, 34061)\t1\n",
      "  (0, 26595)\t1\n",
      "  (0, 19469)\t2\n",
      "  (0, 21262)\t1\n",
      "  (0, 27544)\t1\n",
      "  (0, 23682)\t1\n",
      "  (0, 24799)\t1\n",
      "  (0, 7387)\t1\n",
      "  (0, 39555)\t1\n",
      "  (0, 4322)\t1\n",
      "  (0, 21763)\t1\n",
      "  (0, 36759)\t1\n",
      "  (0, 35127)\t1\n",
      "  (0, 13327)\t1\n",
      "  (0, 7860)\t1\n",
      "  (0, 39908)\t1\n",
      "  (0, 41237)\t1\n",
      "  (0, 38282)\t1\n",
      "  (0, 38968)\t1\n",
      "  (0, 9587)\t1\n"
     ]
    }
   ],
   "source": [
    "print(vectors_bow[0])"
   ]
  },
  {
   "cell_type": "code",
   "execution_count": 46,
   "id": "edcce898-8a3c-48b0-ab8a-d62a973eae0a",
   "metadata": {},
   "outputs": [],
   "source": [
    "df_bow = pd.DataFrame.sparse.from_spmatrix(vectors_bow, columns=cv.get_feature_names_out())"
   ]
  },
  {
   "cell_type": "code",
   "execution_count": 47,
   "id": "9f46920f-1455-4a99-9ba9-a820dec37fc8",
   "metadata": {},
   "outputs": [
    {
     "data": {
      "text/html": [
       "<div>\n",
       "<style scoped>\n",
       "    .dataframe tbody tr th:only-of-type {\n",
       "        vertical-align: middle;\n",
       "    }\n",
       "\n",
       "    .dataframe tbody tr th {\n",
       "        vertical-align: top;\n",
       "    }\n",
       "\n",
       "    .dataframe thead th {\n",
       "        text-align: right;\n",
       "    }\n",
       "</style>\n",
       "<table border=\"1\" class=\"dataframe\">\n",
       "  <thead>\n",
       "    <tr style=\"text-align: right;\">\n",
       "      <th></th>\n",
       "      <th>00</th>\n",
       "      <th>000</th>\n",
       "      <th>00001</th>\n",
       "      <th>0069</th>\n",
       "      <th>007</th>\n",
       "      <th>00am</th>\n",
       "      <th>01</th>\n",
       "      <th>0126</th>\n",
       "      <th>01pm</th>\n",
       "      <th>02</th>\n",
       "      <th>...</th>\n",
       "      <th>être</th>\n",
       "      <th>ís</th>\n",
       "      <th>ísnt</th>\n",
       "      <th>île</th>\n",
       "      <th>ïn</th>\n",
       "      <th>óli</th>\n",
       "      <th>önsjön</th>\n",
       "      <th>über</th>\n",
       "      <th>überwoman</th>\n",
       "      <th>ünfaithful</th>\n",
       "    </tr>\n",
       "  </thead>\n",
       "  <tbody>\n",
       "    <tr>\n",
       "      <th>0</th>\n",
       "      <td>0</td>\n",
       "      <td>0</td>\n",
       "      <td>0</td>\n",
       "      <td>0</td>\n",
       "      <td>0</td>\n",
       "      <td>0</td>\n",
       "      <td>0</td>\n",
       "      <td>0</td>\n",
       "      <td>0</td>\n",
       "      <td>0</td>\n",
       "      <td>...</td>\n",
       "      <td>0</td>\n",
       "      <td>0</td>\n",
       "      <td>0</td>\n",
       "      <td>0</td>\n",
       "      <td>0</td>\n",
       "      <td>0</td>\n",
       "      <td>0</td>\n",
       "      <td>0</td>\n",
       "      <td>0</td>\n",
       "      <td>0</td>\n",
       "    </tr>\n",
       "    <tr>\n",
       "      <th>1</th>\n",
       "      <td>0</td>\n",
       "      <td>0</td>\n",
       "      <td>0</td>\n",
       "      <td>0</td>\n",
       "      <td>0</td>\n",
       "      <td>0</td>\n",
       "      <td>0</td>\n",
       "      <td>0</td>\n",
       "      <td>0</td>\n",
       "      <td>0</td>\n",
       "      <td>...</td>\n",
       "      <td>0</td>\n",
       "      <td>0</td>\n",
       "      <td>0</td>\n",
       "      <td>0</td>\n",
       "      <td>0</td>\n",
       "      <td>0</td>\n",
       "      <td>0</td>\n",
       "      <td>0</td>\n",
       "      <td>0</td>\n",
       "      <td>0</td>\n",
       "    </tr>\n",
       "    <tr>\n",
       "      <th>2</th>\n",
       "      <td>0</td>\n",
       "      <td>0</td>\n",
       "      <td>0</td>\n",
       "      <td>0</td>\n",
       "      <td>0</td>\n",
       "      <td>0</td>\n",
       "      <td>0</td>\n",
       "      <td>0</td>\n",
       "      <td>0</td>\n",
       "      <td>0</td>\n",
       "      <td>...</td>\n",
       "      <td>0</td>\n",
       "      <td>0</td>\n",
       "      <td>0</td>\n",
       "      <td>0</td>\n",
       "      <td>0</td>\n",
       "      <td>0</td>\n",
       "      <td>0</td>\n",
       "      <td>0</td>\n",
       "      <td>0</td>\n",
       "      <td>0</td>\n",
       "    </tr>\n",
       "    <tr>\n",
       "      <th>3</th>\n",
       "      <td>0</td>\n",
       "      <td>0</td>\n",
       "      <td>0</td>\n",
       "      <td>0</td>\n",
       "      <td>0</td>\n",
       "      <td>0</td>\n",
       "      <td>0</td>\n",
       "      <td>0</td>\n",
       "      <td>0</td>\n",
       "      <td>0</td>\n",
       "      <td>...</td>\n",
       "      <td>0</td>\n",
       "      <td>0</td>\n",
       "      <td>0</td>\n",
       "      <td>0</td>\n",
       "      <td>0</td>\n",
       "      <td>0</td>\n",
       "      <td>0</td>\n",
       "      <td>0</td>\n",
       "      <td>0</td>\n",
       "      <td>0</td>\n",
       "    </tr>\n",
       "    <tr>\n",
       "      <th>4</th>\n",
       "      <td>0</td>\n",
       "      <td>0</td>\n",
       "      <td>0</td>\n",
       "      <td>0</td>\n",
       "      <td>0</td>\n",
       "      <td>0</td>\n",
       "      <td>0</td>\n",
       "      <td>0</td>\n",
       "      <td>0</td>\n",
       "      <td>0</td>\n",
       "      <td>...</td>\n",
       "      <td>0</td>\n",
       "      <td>0</td>\n",
       "      <td>0</td>\n",
       "      <td>0</td>\n",
       "      <td>0</td>\n",
       "      <td>0</td>\n",
       "      <td>0</td>\n",
       "      <td>0</td>\n",
       "      <td>0</td>\n",
       "      <td>0</td>\n",
       "    </tr>\n",
       "  </tbody>\n",
       "</table>\n",
       "<p>5 rows × 43349 columns</p>\n",
       "</div>"
      ],
      "text/plain": [
       "   00  000  00001  0069  007  00am  01  0126  01pm  02  ...  être  ís  ísnt  \\\n",
       "0   0    0      0     0    0     0   0     0     0   0  ...     0   0     0   \n",
       "1   0    0      0     0    0     0   0     0     0   0  ...     0   0     0   \n",
       "2   0    0      0     0    0     0   0     0     0   0  ...     0   0     0   \n",
       "3   0    0      0     0    0     0   0     0     0   0  ...     0   0     0   \n",
       "4   0    0      0     0    0     0   0     0     0   0  ...     0   0     0   \n",
       "\n",
       "   île  ïn  óli  önsjön  über  überwoman  ünfaithful  \n",
       "0    0   0    0       0     0          0           0  \n",
       "1    0   0    0       0     0          0           0  \n",
       "2    0   0    0       0     0          0           0  \n",
       "3    0   0    0       0     0          0           0  \n",
       "4    0   0    0       0     0          0           0  \n",
       "\n",
       "[5 rows x 43349 columns]"
      ]
     },
     "execution_count": 47,
     "metadata": {},
     "output_type": "execute_result"
    }
   ],
   "source": [
    "df_bow.head()"
   ]
  },
  {
   "cell_type": "code",
   "execution_count": 48,
   "id": "085b5d1b-0503-40e5-b7e6-b0ce5404a467",
   "metadata": {},
   "outputs": [
    {
     "data": {
      "text/plain": [
       "(10000, 43349)"
      ]
     },
     "execution_count": 48,
     "metadata": {},
     "output_type": "execute_result"
    }
   ],
   "source": [
    "df_bow.shape"
   ]
  },
  {
   "cell_type": "code",
   "execution_count": 49,
   "id": "1a8febeb-16c7-4b6a-bf9b-1d71af7dafb7",
   "metadata": {},
   "outputs": [],
   "source": [
    "x_train, x_test, y_train, y_test = train_test_split(df_bow, y, test_size=0.2, random_state=False)"
   ]
  },
  {
   "cell_type": "code",
   "execution_count": 50,
   "id": "aa19a0c8-696c-4f7c-8c34-4dcd80d31b95",
   "metadata": {},
   "outputs": [],
   "source": [
    "rmf = RandomForestClassifier(n_jobs=-1)\n",
    "nb = MultinomialNB()"
   ]
  },
  {
   "cell_type": "code",
   "execution_count": 51,
   "id": "4fd45886-c979-45b5-b539-d82cfa0017ab",
   "metadata": {},
   "outputs": [],
   "source": [
    "rmf.fit(x_train, y_train)\n",
    "nb.fit(x_train, y_train)\n",
    "y_pred1 = rmf.predict(x_test)\n",
    "y_pred2 = nb.predict(x_test)"
   ]
  },
  {
   "cell_type": "code",
   "execution_count": 52,
   "id": "bf85abd0-64e7-43c9-8aa8-f2a37302d17a",
   "metadata": {},
   "outputs": [
    {
     "name": "stdout",
     "output_type": "stream",
     "text": [
      "Random_forest:  85.1\n",
      "Naive_bayse:  83.3\n"
     ]
    }
   ],
   "source": [
    "print(\"Random_forest: \", accuracy_score(y_test, y_pred1) * 100)\n",
    "print(\"Naive_bayse: \", accuracy_score(y_test, y_pred2) * 100)"
   ]
  }
 ],
 "metadata": {
  "kernelspec": {
   "display_name": "Python 3 (ipykernel)",
   "language": "python",
   "name": "python3"
  },
  "language_info": {
   "codemirror_mode": {
    "name": "ipython",
    "version": 3
   },
   "file_extension": ".py",
   "mimetype": "text/x-python",
   "name": "python",
   "nbconvert_exporter": "python",
   "pygments_lexer": "ipython3",
   "version": "3.10.16"
  },
  "widgets": {
   "application/vnd.jupyter.widget-state+json": {
    "state": {
     "25a1d75d88d94603ab7295b5962c2a28": {
      "model_module": "@jupyter-widgets/controls",
      "model_module_version": "2.0.0",
      "model_name": "ProgressStyleModel",
      "state": {
       "description_width": ""
      }
     },
     "3b8bad8a92e745f79b2553ae3245c65e": {
      "model_module": "@jupyter-widgets/base",
      "model_module_version": "2.0.0",
      "model_name": "LayoutModel",
      "state": {}
     },
     "408c4c4e75e047549f5b8ceb953c9f09": {
      "model_module": "@jupyter-widgets/base",
      "model_module_version": "2.0.0",
      "model_name": "LayoutModel",
      "state": {}
     },
     "4613163a4e024129b509199299f1e1c9": {
      "model_module": "@jupyter-widgets/controls",
      "model_module_version": "2.0.0",
      "model_name": "HTMLStyleModel",
      "state": {
       "description_width": "",
       "font_size": null,
       "text_color": null
      }
     },
     "496d71442d854b468cfa0143a515b479": {
      "model_module": "@jupyter-widgets/controls",
      "model_module_version": "2.0.0",
      "model_name": "HTMLStyleModel",
      "state": {
       "description_width": "",
       "font_size": null,
       "text_color": null
      }
     },
     "5e538baea5e94206a473bb95bd6a42af": {
      "model_module": "@jupyter-widgets/base",
      "model_module_version": "2.0.0",
      "model_name": "LayoutModel",
      "state": {}
     },
     "67ae93375c1740b08b534335cb9885c7": {
      "model_module": "@jupyter-widgets/controls",
      "model_module_version": "2.0.0",
      "model_name": "HBoxModel",
      "state": {
       "children": [
        "IPY_MODEL_f04fe25e703642df96584880f8eff62c",
        "IPY_MODEL_a2d61d317793419d8dad035aba3751fd",
        "IPY_MODEL_d127426d34f04f7eb137d8079b815918"
       ],
       "layout": "IPY_MODEL_408c4c4e75e047549f5b8ceb953c9f09"
      }
     },
     "7374519af2b14c4d98cbc9e8711e8362": {
      "model_module": "@jupyter-widgets/base",
      "model_module_version": "2.0.0",
      "model_name": "LayoutModel",
      "state": {}
     },
     "7a25963ed1e346aaa1ac9d48ccc53657": {
      "model_module": "@jupyter-widgets/controls",
      "model_module_version": "2.0.0",
      "model_name": "HTMLStyleModel",
      "state": {
       "description_width": "",
       "font_size": null,
       "text_color": null
      }
     },
     "86842274454a40259406ae4fd81e8c59": {
      "model_module": "@jupyter-widgets/controls",
      "model_module_version": "2.0.0",
      "model_name": "HTMLStyleModel",
      "state": {
       "description_width": "",
       "font_size": null,
       "text_color": null
      }
     },
     "9dfca88ddd9842248cb98dc99e495081": {
      "model_module": "@jupyter-widgets/base",
      "model_module_version": "2.0.0",
      "model_name": "LayoutModel",
      "state": {}
     },
     "a1239023b4ca45ff9de973f51331e043": {
      "model_module": "@jupyter-widgets/base",
      "model_module_version": "2.0.0",
      "model_name": "LayoutModel",
      "state": {}
     },
     "a2d61d317793419d8dad035aba3751fd": {
      "model_module": "@jupyter-widgets/controls",
      "model_module_version": "2.0.0",
      "model_name": "FloatProgressModel",
      "state": {
       "bar_style": "success",
       "layout": "IPY_MODEL_fcbaf314a85045cb8237b41a464da990",
       "max": 10000,
       "style": "IPY_MODEL_e0638f2081b4418d9e38aa8f33ebc16f",
       "value": 10000
      }
     },
     "c17eef3da52a4f31b21686e2492e62cd": {
      "model_module": "@jupyter-widgets/base",
      "model_module_version": "2.0.0",
      "model_name": "LayoutModel",
      "state": {}
     },
     "ca5b8d0581d847e4b000cf927648e04b": {
      "model_module": "@jupyter-widgets/controls",
      "model_module_version": "2.0.0",
      "model_name": "FloatProgressModel",
      "state": {
       "bar_style": "success",
       "layout": "IPY_MODEL_c17eef3da52a4f31b21686e2492e62cd",
       "max": 10000,
       "style": "IPY_MODEL_25a1d75d88d94603ab7295b5962c2a28",
       "value": 10000
      }
     },
     "d127426d34f04f7eb137d8079b815918": {
      "model_module": "@jupyter-widgets/controls",
      "model_module_version": "2.0.0",
      "model_name": "HTMLModel",
      "state": {
       "layout": "IPY_MODEL_7374519af2b14c4d98cbc9e8711e8362",
       "style": "IPY_MODEL_7a25963ed1e346aaa1ac9d48ccc53657",
       "value": " 10000/10000 [00:00&lt;00:00, 647768.96it/s]"
      }
     },
     "d550dee8c8e942668f83a472635def27": {
      "model_module": "@jupyter-widgets/controls",
      "model_module_version": "2.0.0",
      "model_name": "HTMLModel",
      "state": {
       "layout": "IPY_MODEL_a1239023b4ca45ff9de973f51331e043",
       "style": "IPY_MODEL_496d71442d854b468cfa0143a515b479",
       "value": " 10000/10000 [02:52&lt;00:00, 190.88it/s]"
      }
     },
     "e0638f2081b4418d9e38aa8f33ebc16f": {
      "model_module": "@jupyter-widgets/controls",
      "model_module_version": "2.0.0",
      "model_name": "ProgressStyleModel",
      "state": {
       "description_width": ""
      }
     },
     "e85aa18f279f466a979c2ba250147fe5": {
      "model_module": "@jupyter-widgets/controls",
      "model_module_version": "2.0.0",
      "model_name": "HBoxModel",
      "state": {
       "children": [
        "IPY_MODEL_f1483042b76f4708954567490996c7a3",
        "IPY_MODEL_ca5b8d0581d847e4b000cf927648e04b",
        "IPY_MODEL_d550dee8c8e942668f83a472635def27"
       ],
       "layout": "IPY_MODEL_9dfca88ddd9842248cb98dc99e495081"
      }
     },
     "f04fe25e703642df96584880f8eff62c": {
      "model_module": "@jupyter-widgets/controls",
      "model_module_version": "2.0.0",
      "model_name": "HTMLModel",
      "state": {
       "layout": "IPY_MODEL_5e538baea5e94206a473bb95bd6a42af",
       "style": "IPY_MODEL_86842274454a40259406ae4fd81e8c59",
       "value": "100%"
      }
     },
     "f1483042b76f4708954567490996c7a3": {
      "model_module": "@jupyter-widgets/controls",
      "model_module_version": "2.0.0",
      "model_name": "HTMLModel",
      "state": {
       "layout": "IPY_MODEL_3b8bad8a92e745f79b2553ae3245c65e",
       "style": "IPY_MODEL_4613163a4e024129b509199299f1e1c9",
       "value": "100%"
      }
     },
     "fcbaf314a85045cb8237b41a464da990": {
      "model_module": "@jupyter-widgets/base",
      "model_module_version": "2.0.0",
      "model_name": "LayoutModel",
      "state": {}
     }
    },
    "version_major": 2,
    "version_minor": 0
   }
  }
 },
 "nbformat": 4,
 "nbformat_minor": 5
}
