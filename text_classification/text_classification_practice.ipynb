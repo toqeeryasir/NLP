{
 "cells": [
  {
   "cell_type": "code",
   "execution_count": 163,
   "id": "e5c48cfa-6126-45c2-b788-2da1e030162a",
   "metadata": {},
   "outputs": [],
   "source": [
    "import numpy as np\n",
    "import pandas as pd\n",
    "from tqdm.auto import tqdm"
   ]
  },
  {
   "cell_type": "code",
   "execution_count": 2,
   "id": "74620a1c-48de-492c-95a7-3de57f0c0f06",
   "metadata": {},
   "outputs": [],
   "source": [
    "df = pd.read_csv(\"IMDB_Dataset.zip\")"
   ]
  },
  {
   "cell_type": "code",
   "execution_count": 3,
   "id": "31b69c93-7ae9-4ce3-922a-c3de05162c34",
   "metadata": {},
   "outputs": [
    {
     "data": {
      "text/plain": [
       "(50000, 2)"
      ]
     },
     "execution_count": 3,
     "metadata": {},
     "output_type": "execute_result"
    }
   ],
   "source": [
    "df.shape"
   ]
  },
  {
   "cell_type": "code",
   "execution_count": 4,
   "id": "19b011e5-5640-4495-ad22-5751d835f285",
   "metadata": {},
   "outputs": [],
   "source": [
    "df = df[:10000]"
   ]
  },
  {
   "cell_type": "code",
   "execution_count": 5,
   "id": "e1fb3cb2-8fcc-4414-a389-2094168fc6ae",
   "metadata": {},
   "outputs": [
    {
     "data": {
      "text/html": [
       "<div>\n",
       "<style scoped>\n",
       "    .dataframe tbody tr th:only-of-type {\n",
       "        vertical-align: middle;\n",
       "    }\n",
       "\n",
       "    .dataframe tbody tr th {\n",
       "        vertical-align: top;\n",
       "    }\n",
       "\n",
       "    .dataframe thead th {\n",
       "        text-align: right;\n",
       "    }\n",
       "</style>\n",
       "<table border=\"1\" class=\"dataframe\">\n",
       "  <thead>\n",
       "    <tr style=\"text-align: right;\">\n",
       "      <th></th>\n",
       "      <th>review</th>\n",
       "      <th>sentiment</th>\n",
       "    </tr>\n",
       "  </thead>\n",
       "  <tbody>\n",
       "    <tr>\n",
       "      <th>0</th>\n",
       "      <td>One of the other reviewers has mentioned that ...</td>\n",
       "      <td>positive</td>\n",
       "    </tr>\n",
       "    <tr>\n",
       "      <th>1</th>\n",
       "      <td>A wonderful little production. &lt;br /&gt;&lt;br /&gt;The...</td>\n",
       "      <td>positive</td>\n",
       "    </tr>\n",
       "    <tr>\n",
       "      <th>2</th>\n",
       "      <td>I thought this was a wonderful way to spend ti...</td>\n",
       "      <td>positive</td>\n",
       "    </tr>\n",
       "    <tr>\n",
       "      <th>3</th>\n",
       "      <td>Basically there's a family where a little boy ...</td>\n",
       "      <td>negative</td>\n",
       "    </tr>\n",
       "    <tr>\n",
       "      <th>4</th>\n",
       "      <td>Petter Mattei's \"Love in the Time of Money\" is...</td>\n",
       "      <td>positive</td>\n",
       "    </tr>\n",
       "  </tbody>\n",
       "</table>\n",
       "</div>"
      ],
      "text/plain": [
       "                                              review sentiment\n",
       "0  One of the other reviewers has mentioned that ...  positive\n",
       "1  A wonderful little production. <br /><br />The...  positive\n",
       "2  I thought this was a wonderful way to spend ti...  positive\n",
       "3  Basically there's a family where a little boy ...  negative\n",
       "4  Petter Mattei's \"Love in the Time of Money\" is...  positive"
      ]
     },
     "execution_count": 5,
     "metadata": {},
     "output_type": "execute_result"
    }
   ],
   "source": [
    "df.head()"
   ]
  },
  {
   "cell_type": "code",
   "execution_count": 6,
   "id": "7c29b8b1-76b9-4fc8-98f8-e24916197f0a",
   "metadata": {},
   "outputs": [
    {
     "data": {
      "text/plain": [
       "(10000, 2)"
      ]
     },
     "execution_count": 6,
     "metadata": {},
     "output_type": "execute_result"
    }
   ],
   "source": [
    "df.shape"
   ]
  },
  {
   "cell_type": "code",
   "execution_count": 7,
   "id": "11d427e6-2fc8-4d87-838a-45aed27f3b10",
   "metadata": {},
   "outputs": [
    {
     "data": {
      "text/plain": [
       "review       0\n",
       "sentiment    0\n",
       "dtype: int64"
      ]
     },
     "execution_count": 7,
     "metadata": {},
     "output_type": "execute_result"
    }
   ],
   "source": [
    "df.isnull().sum()"
   ]
  },
  {
   "cell_type": "code",
   "execution_count": 8,
   "id": "6a36e2c3-97be-4ec3-b2b6-fe2c50ff8414",
   "metadata": {},
   "outputs": [],
   "source": [
    "from bs4 import BeautifulSoup"
   ]
  },
  {
   "cell_type": "code",
   "execution_count": 9,
   "id": "53abd608-e93a-4533-8b07-c03f0af294f8",
   "metadata": {},
   "outputs": [],
   "source": [
    "def remove_html_tags(text):\n",
    "    soup = BeautifulSoup(text, \"html.parser\")\n",
    "    return soup.get_text(separator=\" \", strip=True)"
   ]
  },
  {
   "cell_type": "code",
   "execution_count": 10,
   "id": "fb007700-b6e6-4d30-b692-31188c16951e",
   "metadata": {},
   "outputs": [
    {
     "name": "stderr",
     "output_type": "stream",
     "text": [
      "/tmp/ipykernel_5106/3157248265.py:2: MarkupResemblesLocatorWarning: The input looks more like a filename than markup. You may want to open this file and pass the filehandle into Beautiful Soup.\n",
      "  soup = BeautifulSoup(text, \"html.parser\")\n"
     ]
    },
    {
     "data": {
      "application/vnd.jupyter.widget-view+json": {
       "model_id": "a226a28baba7404ea6b70e122e43b6b6",
       "version_major": 2,
       "version_minor": 0
      },
      "text/plain": [
       "  0%|          | 0/10000 [00:00<?, ?it/s]"
      ]
     },
     "metadata": {},
     "output_type": "display_data"
    }
   ],
   "source": [
    "df['review'] = tqdm(df['review'].apply(remove_html_tags))"
   ]
  },
  {
   "cell_type": "code",
   "execution_count": 11,
   "id": "548ef082-7803-485d-9b42-022097f131bd",
   "metadata": {},
   "outputs": [
    {
     "data": {
      "text/plain": [
       "\"One of the other reviewers has mentioned that after watching just 1 Oz episode you'll be hooked. They are right, as this is exactly what happened with me. The first thing that struck me about Oz was its brutality and unflinching scenes of violence, which set in right from the word GO. Trust me, this is not a show for the faint hearted or timid. This show pulls no punches with regards to drugs, sex or violence. Its is hardcore, in the classic use of the word. It is called OZ as that is the nickname given to the Oswald Maximum Security State Penitentary. It focuses mainly on Emerald City, an experimental section of the prison where all the cells have glass fronts and face inwards, so privacy is not high on the agenda. Em City is home to many..Aryans, Muslims, gangstas, Latinos, Christians, Italians, Irish and more....so scuffles, death stares, dodgy dealings and shady agreements are never far away. I would say the main appeal of the show is due to the fact that it goes where other shows wouldn't dare. Forget pretty pictures painted for mainstream audiences, forget charm, forget romance...OZ doesn't mess around. The first episode I ever saw struck me as so nasty it was surreal, I couldn't say I was ready for it, but as I watched more, I developed a taste for Oz, and got accustomed to the high levels of graphic violence. Not just violence, but injustice (crooked guards who'll be sold out for a nickel, inmates who'll kill on order and get away with it, well mannered, middle class inmates being turned into prison bitches due to their lack of street skills or prison experience) Watching Oz, you may become comfortable with what is uncomfortable viewing....thats if you can get in touch with your darker side.\""
      ]
     },
     "execution_count": 11,
     "metadata": {},
     "output_type": "execute_result"
    }
   ],
   "source": [
    "df['review'][0]"
   ]
  },
  {
   "cell_type": "code",
   "execution_count": 12,
   "id": "c9194bca-74a9-4017-ae5b-85c9379753fc",
   "metadata": {},
   "outputs": [
    {
     "data": {
      "text/plain": [
       "'!\"#$%&\\'()*+,-./:;<=>?@[\\\\]^_`{|}~'"
      ]
     },
     "execution_count": 12,
     "metadata": {},
     "output_type": "execute_result"
    }
   ],
   "source": [
    "import string\n",
    "string.punctuation"
   ]
  },
  {
   "cell_type": "code",
   "execution_count": 13,
   "id": "34616281-01ba-4010-b3dc-c05737812587",
   "metadata": {},
   "outputs": [],
   "source": [
    "# !python -m spacy download en_core_web_md\n",
    "import spacy\n",
    "nlp = spacy.load(\"en_core_web_sm\", disable=[\"parser\", \"ner\"])"
   ]
  },
  {
   "cell_type": "code",
   "execution_count": 14,
   "id": "cbe94aae-c265-4b28-b06e-202e3f79dc9f",
   "metadata": {},
   "outputs": [],
   "source": [
    "def text_preprocessing(text):\n",
    "    return [[token.lemma_ for token in doc if not token.is_punct and not token.is_stop] for doc in tqdm(nlp.pipe(text.astype(str).str.lower().str.strip().tolist(), batch_size=1000), total= len(text))]"
   ]
  },
  {
   "cell_type": "code",
   "execution_count": 15,
   "id": "a4c11e28-cfb3-4dc7-8f74-170411ed8ccd",
   "metadata": {},
   "outputs": [
    {
     "data": {
      "application/vnd.jupyter.widget-view+json": {
       "model_id": "60bc7d85c6ac42d5a4a4da4d259bd952",
       "version_major": 2,
       "version_minor": 0
      },
      "text/plain": [
       "  0%|          | 0/10000 [00:00<?, ?it/s]"
      ]
     },
     "metadata": {},
     "output_type": "display_data"
    }
   ],
   "source": [
    "df['review'] = text_preprocessing(df['review'])"
   ]
  },
  {
   "cell_type": "code",
   "execution_count": 16,
   "id": "055dbfc6-88d4-4cc0-9a5d-b53bf7072350",
   "metadata": {},
   "outputs": [
    {
     "data": {
      "text/html": [
       "<div>\n",
       "<style scoped>\n",
       "    .dataframe tbody tr th:only-of-type {\n",
       "        vertical-align: middle;\n",
       "    }\n",
       "\n",
       "    .dataframe tbody tr th {\n",
       "        vertical-align: top;\n",
       "    }\n",
       "\n",
       "    .dataframe thead th {\n",
       "        text-align: right;\n",
       "    }\n",
       "</style>\n",
       "<table border=\"1\" class=\"dataframe\">\n",
       "  <thead>\n",
       "    <tr style=\"text-align: right;\">\n",
       "      <th></th>\n",
       "      <th>review</th>\n",
       "      <th>sentiment</th>\n",
       "    </tr>\n",
       "  </thead>\n",
       "  <tbody>\n",
       "    <tr>\n",
       "      <th>0</th>\n",
       "      <td>[reviewer, mention, watch, 1, oz, episode, hoo...</td>\n",
       "      <td>positive</td>\n",
       "    </tr>\n",
       "    <tr>\n",
       "      <th>1</th>\n",
       "      <td>[wonderful, little, production, filming, techn...</td>\n",
       "      <td>positive</td>\n",
       "    </tr>\n",
       "    <tr>\n",
       "      <th>2</th>\n",
       "      <td>[think, wonderful, way, spend, time, hot, summ...</td>\n",
       "      <td>positive</td>\n",
       "    </tr>\n",
       "    <tr>\n",
       "      <th>3</th>\n",
       "      <td>[basically, family, little, boy, jake, think, ...</td>\n",
       "      <td>negative</td>\n",
       "    </tr>\n",
       "    <tr>\n",
       "      <th>4</th>\n",
       "      <td>[petter, mattei, love, time, money, visually, ...</td>\n",
       "      <td>positive</td>\n",
       "    </tr>\n",
       "  </tbody>\n",
       "</table>\n",
       "</div>"
      ],
      "text/plain": [
       "                                              review sentiment\n",
       "0  [reviewer, mention, watch, 1, oz, episode, hoo...  positive\n",
       "1  [wonderful, little, production, filming, techn...  positive\n",
       "2  [think, wonderful, way, spend, time, hot, summ...  positive\n",
       "3  [basically, family, little, boy, jake, think, ...  negative\n",
       "4  [petter, mattei, love, time, money, visually, ...  positive"
      ]
     },
     "execution_count": 16,
     "metadata": {},
     "output_type": "execute_result"
    }
   ],
   "source": [
    "df.head()"
   ]
  },
  {
   "cell_type": "code",
   "execution_count": 149,
   "id": "883fcd81-51e7-4c19-805c-0a86ce53401a",
   "metadata": {},
   "outputs": [
    {
     "name": "stdout",
     "output_type": "stream",
     "text": [
      "[['reviewer', 'mention', 'watch', '1', 'oz', 'episode', 'hook', 'right', 'exactly', 'happen', 'thing', 'strike', 'oz', 'brutality', 'unflinche', 'scene', 'violence', 'set', 'right', 'word', 'trust', 'faint', 'hearted', 'timid', 'pull', 'punch', 'regard', 'drug', 'sex', 'violence', 'hardcore', 'classic', 'use', 'word', 'call', 'oz', 'nickname', 'give', 'oswald', 'maximum', 'security', 'state', 'penitentary', 'focus', 'mainly', 'emerald', 'city', 'experimental', 'section', 'prison', 'cell', 'glass', 'front', 'face', 'inward', 'privacy', 'high', 'agenda', 'em', 'city', 'home', 'aryan', 'muslim', 'gangsta', 'latinos', 'christians', 'italian', 'irish', 'scuffle', 'death', 'stare', 'dodgy', 'dealing', 'shady', 'agreement', 'far', 'away', 'main', 'appeal', 'fact', 'go', 'show', 'dare', 'forget', 'pretty', 'picture', 'paint', 'mainstream', 'audience', 'forget', 'charm', 'forget', 'romance', 'oz', 'mess', 'episode', 'see', 'strike', 'nasty', 'surreal', 'ready', 'watch', 'develop', 'taste', 'oz', 'get', 'accustom', 'high', 'level', 'graphic', 'violence', 'violence', 'injustice', 'crooked', 'guard', 'sell', 'nickel', 'inmate', 'kill', 'order', 'away', 'mannered', 'middle', 'class', 'inmate', 'turn', 'prison', 'bitch', 'lack', 'street', 'skill', 'prison', 'experience', 'watch', 'oz', 'comfortable', 'uncomfortable', 'view', 'that', 'touch', 'dark'], ['wonderful', 'little', 'production', 'filming', 'technique', 'unassuming-', 'old', 'time', 'bbc', 'fashion', 'give', 'comforting', 'discomforte', 'sense', 'realism', 'entire', 'piece', 'actor', 'extremely', 'chosen-', 'michael', 'sheen', 'get', 'polari', 'voice', 'pat', 'truly', 'seamless', 'editing', 'guide', 'reference', 'williams', 'diary', 'entry', 'worth', 'watching', 'terrificly', 'write', 'perform', 'piece', 'masterful', 'production', 'great', 'master', 'comedy', 'life', 'realism', 'come', 'home', 'little', 'thing', 'fantasy', 'guard', 'use', 'traditional', 'dream', 'technique', 'remain', 'solid', 'disappear', 'play', 'knowledge', 'sense', 'particularly', 'scene', 'concern', 'orton', 'halliwell', 'set', 'particularly', 'flat', 'halliwell', 'mural', 'decorate', 'surface', 'terribly']]\n"
     ]
    }
   ],
   "source": [
    "sentence_lists = df['review'].tolist()\n",
    "print(sentence_lists[:2])"
   ]
  },
  {
   "cell_type": "code",
   "execution_count": 38,
   "id": "3e5f65e3-4821-48dc-8324-f59d35f1cf8f",
   "metadata": {},
   "outputs": [],
   "source": [
    "def tokens_into_strings(token_lists):\n",
    "    return [\" \".join(lst) for lst in token_lists]"
   ]
  },
  {
   "cell_type": "code",
   "execution_count": 55,
   "id": "893813e0-6fa5-4d6c-a3d6-3c81439e5820",
   "metadata": {},
   "outputs": [
    {
     "data": {
      "text/plain": [
       "['reviewer mention watch 1 oz episode hook right exactly happen thing strike oz brutality unflinche scene violence set right word trust faint hearted timid pull punch regard drug sex violence hardcore classic use word call oz nickname give oswald maximum security state penitentary focus mainly emerald city experimental section prison cell glass front face inward privacy high agenda em city home aryan muslim gangsta latinos christians italian irish scuffle death stare dodgy dealing shady agreement far away main appeal fact go show dare forget pretty picture paint mainstream audience forget charm forget romance oz mess episode see strike nasty surreal ready watch develop taste oz get accustom high level graphic violence violence injustice crooked guard sell nickel inmate kill order away mannered middle class inmate turn prison bitch lack street skill prison experience watch oz comfortable uncomfortable view that touch dark',\n",
       " 'wonderful little production filming technique unassuming- old time bbc fashion give comforting discomforte sense realism entire piece actor extremely chosen- michael sheen get polari voice pat truly seamless editing guide reference williams diary entry worth watching terrificly write perform piece masterful production great master comedy life realism come home little thing fantasy guard use traditional dream technique remain solid disappear play knowledge sense particularly scene concern orton halliwell set particularly flat halliwell mural decorate surface terribly',\n",
       " 'think wonderful way spend time hot summer weekend sit air condition theater watch light hearted comedy plot simplistic dialogue witty character likable bread suspect serial killer disappoint realize match point 2 risk addiction think proof woody allen fully control style grow love laugh woody comedy year dare decade impress scarlet johanson manage tone sexy image jump right average spirited young woman crown jewel career witty devil wear prada interesting superman great comedy friend',\n",
       " 'basically family little boy jake think zombie closet parent fight time movie slow soap opera suddenly jake decide rambo kill zombie ok go film decide thriller drama drama movie watchable parent divorce argue like real life jake closet totally ruin film expect boogeyman similar movie instead watch drama meaningless thriller spot 3 10 play parent descent dialog shot jake ignore',\n",
       " 'petter mattei love time money visually stunning film watch mr mattei offer vivid portrait human relation movie tell money power success people different situation encounter variation arthur schnitzler play theme director transfer action present time new york different character meet connect connect way person know previous point contact stylishly film sophisticated luxurious look take people live world live habitat thing get soul picture different stage loneliness inhabit big city exactly good place human relation find sincere fulfillment discern case people encounter acting good mr mattei direction steve buscemi rosario dawson carol kane michael imperioli adrian grenier rest talented cast character come alive wish mr mattei good luck await anxiously work']"
      ]
     },
     "execution_count": 55,
     "metadata": {},
     "output_type": "execute_result"
    }
   ],
   "source": [
    "tokens_strings = tokens_into_strings(df['review'])\n",
    "tokens_strings[:5]"
   ]
  },
  {
   "cell_type": "markdown",
   "id": "22f37088-6bb2-43a5-b79f-5213019d7b04",
   "metadata": {},
   "source": [
    "# Applying text representation techniques:"
   ]
  },
  {
   "cell_type": "markdown",
   "id": "92f87d8a-db49-4523-8a68-0ca4e2d7adbf",
   "metadata": {},
   "source": [
    "## Tfidf vectorization:"
   ]
  },
  {
   "cell_type": "code",
   "execution_count": null,
   "id": "85b03775-5bf4-4a6b-9295-c109b4e9acbd",
   "metadata": {},
   "outputs": [],
   "source": [
    "from sklearn.feature_extraction.text import TfidfVectorizer\n",
    "tfidf = TfidfVectorizer()\n",
    "df_vecs = tfidf.fit_transform(tokens_strings)"
   ]
  },
  {
   "cell_type": "code",
   "execution_count": 72,
   "id": "3ec3a0ae-f897-48d1-a498-983b2c67b0ef",
   "metadata": {},
   "outputs": [
    {
     "name": "stdout",
     "output_type": "stream",
     "text": [
      "  (0, 32190)\t0.06288074908836157\n",
      "  (0, 24592)\t0.04900345506642814\n",
      "  (0, 41790)\t0.07520229196016928\n",
      "  (0, 27951)\t0.4911919661627683\n",
      "  (0, 12805)\t0.09871143458569412\n",
      "  (0, 18264)\t0.06802132824254413\n",
      "  (0, 32363)\t0.07899293270684586\n",
      "  (0, 13167)\t0.054497507593535256\n",
      "  (0, 17231)\t0.03960520166543676\n",
      "  (0, 38391)\t0.030293902110014037\n",
      "  (0, 36797)\t0.12890106714262967\n",
      "  (0, 5439)\t0.08646353561999769\n",
      "  (0, 40179)\t0.11393869098948975\n",
      "  (0, 33570)\t0.029145077371737906\n",
      "  (0, 41319)\t0.21770339389715013\n",
      "  (0, 34242)\t0.03943167614584476\n",
      "  (0, 42611)\t0.09155255657732388\n",
      "  (0, 39444)\t0.06690683151533683\n",
      "  (0, 13563)\t0.08742589358031894\n",
      "  (0, 17558)\t0.07140847925447974\n",
      "  (0, 38624)\t0.10020111330474372\n",
      "  (0, 30545)\t0.053730976265917746\n",
      "  (0, 30569)\t0.0708647204511568\n",
      "  (0, 31590)\t0.06681027132827676\n",
      "  (0, 11654)\t0.058239385012031256\n",
      "  :\t:\n",
      "  (0, 22368)\t0.05288178181175004\n",
      "  (0, 16426)\t0.06643131862835731\n",
      "  (0, 19462)\t0.08902438368454765\n",
      "  (0, 9049)\t0.08902438368454765\n",
      "  (0, 16741)\t0.07168949067793652\n",
      "  (0, 34061)\t0.06161254228367479\n",
      "  (0, 26595)\t0.10527124448618418\n",
      "  (0, 19469)\t0.18762700688506267\n",
      "  (0, 21262)\t0.04223274576836459\n",
      "  (0, 27544)\t0.05232593554292572\n",
      "  (0, 23682)\t0.09085758420154368\n",
      "  (0, 24799)\t0.05519956835173652\n",
      "  (0, 7387)\t0.0553525302846239\n",
      "  (0, 39555)\t0.03830958397290323\n",
      "  (0, 4322)\t0.08321848252455151\n",
      "  (0, 21763)\t0.046029267769470424\n",
      "  (0, 36759)\t0.05703877150046032\n",
      "  (0, 35127)\t0.06588358951794038\n",
      "  (0, 13327)\t0.04902663298240153\n",
      "  (0, 7860)\t0.07980109091241777\n",
      "  (0, 39908)\t0.0775666426408948\n",
      "  (0, 41237)\t0.04680104580638637\n",
      "  (0, 38282)\t0.0792689049762675\n",
      "  (0, 38968)\t0.053299171696266634\n",
      "  (0, 9587)\t0.05039836112825146\n"
     ]
    }
   ],
   "source": [
    "print(df_vecs[:1,:])"
   ]
  },
  {
   "cell_type": "code",
   "execution_count": null,
   "id": "f34c6d83-1cb2-4ef9-91d7-c22110b12a00",
   "metadata": {},
   "outputs": [],
   "source": [
    "df_tfidf = pd.DataFrame.sparse.from_spmatrix(df_vecs, columns=tfidf.get_feature_names_out())"
   ]
  },
  {
   "cell_type": "code",
   "execution_count": 65,
   "id": "8437ff7d-642a-479d-8299-91cf7db21805",
   "metadata": {},
   "outputs": [
    {
     "data": {
      "text/plain": [
       "00            False\n",
       "000           False\n",
       "00001         False\n",
       "0069          False\n",
       "007           False\n",
       "              ...  \n",
       "óli           False\n",
       "önsjön        False\n",
       "über          False\n",
       "überwoman     False\n",
       "ünfaithful    False\n",
       "Length: 43349, dtype: Sparse[bool, False]"
      ]
     },
     "execution_count": 65,
     "metadata": {},
     "output_type": "execute_result"
    }
   ],
   "source": [
    "df_tfidf.isnull().sum()"
   ]
  },
  {
   "cell_type": "code",
   "execution_count": 79,
   "id": "cbd3fc0f-4d6d-4fb3-a07a-e2ab48d326e9",
   "metadata": {},
   "outputs": [
    {
     "name": "stdout",
     "output_type": "stream",
     "text": [
      "\n",
      "Non zero values in row no. 0:\n",
      " oz          0.491192\n",
      "violence    0.217703\n",
      "prison      0.201307\n",
      "inmate      0.187627\n",
      "forget      0.152219\n",
      "Name: 0, dtype: Sparse[float64, 0]\n"
     ]
    }
   ],
   "source": [
    "x = 0\n",
    "print(f\"\\nNon zero values in row no. {x}:\\n\", df_tfidf.iloc[x].sort_values(ascending=False).head())"
   ]
  },
  {
   "cell_type": "code",
   "execution_count": 81,
   "id": "7b9999c6-02fa-4cbd-9443-cecb751257b2",
   "metadata": {},
   "outputs": [
    {
     "data": {
      "text/plain": [
       "0    positive\n",
       "1    positive\n",
       "2    positive\n",
       "3    negative\n",
       "4    positive\n",
       "Name: sentiment, dtype: object"
      ]
     },
     "execution_count": 81,
     "metadata": {},
     "output_type": "execute_result"
    }
   ],
   "source": [
    "y = df[\"sentiment\"]\n",
    "y.head()"
   ]
  },
  {
   "cell_type": "code",
   "execution_count": 162,
   "id": "4b9cfdde-d1ef-402f-84d6-d9ccf1074fb0",
   "metadata": {},
   "outputs": [
    {
     "data": {
      "text/plain": [
       "(10000,)"
      ]
     },
     "execution_count": 162,
     "metadata": {},
     "output_type": "execute_result"
    }
   ],
   "source": [
    "y.shape"
   ]
  },
  {
   "cell_type": "code",
   "execution_count": 125,
   "id": "7dfdce10-782c-498f-849d-092a050cb172",
   "metadata": {},
   "outputs": [],
   "source": [
    "from sklearn.model_selection import train_test_split\n",
    "from sklearn.ensemble import RandomForestClassifier\n",
    "from sklearn.metrics import accuracy_score\n",
    "from sklearn.naive_bayes import MultinomialNB"
   ]
  },
  {
   "cell_type": "code",
   "execution_count": 126,
   "id": "a10e7b35-8456-4034-ae51-b606ecf2936a",
   "metadata": {},
   "outputs": [],
   "source": [
    "x_train, x_test, y_train, y_test = train_test_split(df_tfidf, y, test_size=0.2, random_state= False)"
   ]
  },
  {
   "cell_type": "code",
   "execution_count": 127,
   "id": "72e8a077-0a78-42d1-a2fb-50accdfcdcc8",
   "metadata": {},
   "outputs": [],
   "source": [
    "rmf = RandomForestClassifier(n_jobs= -1)\n",
    "nb = MultinomialNB()"
   ]
  },
  {
   "cell_type": "code",
   "execution_count": 128,
   "id": "8395da19-5f73-457d-8596-8f58911d5b2f",
   "metadata": {},
   "outputs": [],
   "source": [
    "rmf.fit(x_train, y_train)\n",
    "nb.fit(x_train, y_train)\n",
    "y_pred1 = rmf.predict(x_test)\n",
    "y_pred2 = nb.predict(x_test)"
   ]
  },
  {
   "cell_type": "code",
   "execution_count": 129,
   "id": "6b84e15d-143b-4044-87b5-abbb97dd6a72",
   "metadata": {},
   "outputs": [
    {
     "name": "stdout",
     "output_type": "stream",
     "text": [
      "Random_forest:  84.7\n",
      "Naive_bayse:  84.45\n"
     ]
    }
   ],
   "source": [
    "print(\"Random_forest: \", accuracy_score(y_test, y_pred1)*100)\n",
    "print(\"Naive_bayse: \", accuracy_score(y_test, y_pred2)*100)"
   ]
  },
  {
   "cell_type": "markdown",
   "id": "def50552-8884-4df1-8e56-b1a06d21d93c",
   "metadata": {},
   "source": [
    "## word2vec:"
   ]
  },
  {
   "cell_type": "code",
   "execution_count": 150,
   "id": "0b9aa582-3a59-4b5d-b698-e3992f855103",
   "metadata": {},
   "outputs": [],
   "source": [
    "from gensim.models import Word2Vec"
   ]
  },
  {
   "cell_type": "code",
   "execution_count": 151,
   "id": "96f52133-c01b-49ce-aca1-9c882425cb26",
   "metadata": {},
   "outputs": [],
   "source": [
    "w2v = Word2Vec(sentences= sentence_lists, window=2, vector_size=100, workers=4)"
   ]
  },
  {
   "cell_type": "code",
   "execution_count": 159,
   "id": "46f08f9e-b5b6-482e-a303-867edf33ddd9",
   "metadata": {},
   "outputs": [
    {
     "name": "stdout",
     "output_type": "stream",
     "text": [
      "KeyedVectors<vector_size=100, 15041 keys>\n"
     ]
    }
   ],
   "source": [
    "word_vecs = w2v.wv\n",
    "vectors = word_vecs.vectors\n",
    "words = word_vecs.index_to_key"
   ]
  },
  {
   "cell_type": "code",
   "execution_count": 154,
   "id": "3a536e2a-9e35-41fd-a70e-cdb08baf78e0",
   "metadata": {},
   "outputs": [],
   "source": [
    "# Create DataFrame with words as index\n",
    "df_word2vecs = pd.DataFrame(\n",
    "    data=vectors,\n",
    "    index=words,\n",
    "    columns=[f\"dim_{i}\" for i in range(vectors.shape[1])]\n",
    ")"
   ]
  },
  {
   "cell_type": "code",
   "execution_count": 164,
   "id": "21f33bb6-f807-40bc-b407-8ac51df1f496",
   "metadata": {},
   "outputs": [
    {
     "ename": "IndexError",
     "evalue": "positional indexers are out-of-bounds",
     "output_type": "error",
     "traceback": [
      "\u001b[0;31m---------------------------------------------------------------------------\u001b[0m",
      "\u001b[0;31mIndexError\u001b[0m                                Traceback (most recent call last)",
      "File \u001b[0;32m~/anaconda3/envs/ml-env/lib/python3.10/site-packages/pandas/core/indexing.py:1714\u001b[0m, in \u001b[0;36m_iLocIndexer._get_list_axis\u001b[0;34m(self, key, axis)\u001b[0m\n\u001b[1;32m   1713\u001b[0m \u001b[38;5;28;01mtry\u001b[39;00m:\n\u001b[0;32m-> 1714\u001b[0m     \u001b[38;5;28;01mreturn\u001b[39;00m \u001b[38;5;28;43mself\u001b[39;49m\u001b[38;5;241;43m.\u001b[39;49m\u001b[43mobj\u001b[49m\u001b[38;5;241;43m.\u001b[39;49m\u001b[43m_take_with_is_copy\u001b[49m\u001b[43m(\u001b[49m\u001b[43mkey\u001b[49m\u001b[43m,\u001b[49m\u001b[43m \u001b[49m\u001b[43maxis\u001b[49m\u001b[38;5;241;43m=\u001b[39;49m\u001b[43maxis\u001b[49m\u001b[43m)\u001b[49m\n\u001b[1;32m   1715\u001b[0m \u001b[38;5;28;01mexcept\u001b[39;00m \u001b[38;5;167;01mIndexError\u001b[39;00m \u001b[38;5;28;01mas\u001b[39;00m err:\n\u001b[1;32m   1716\u001b[0m     \u001b[38;5;66;03m# re-raise with different error message, e.g. test_getitem_ndarray_3d\u001b[39;00m\n",
      "File \u001b[0;32m~/anaconda3/envs/ml-env/lib/python3.10/site-packages/pandas/core/generic.py:4153\u001b[0m, in \u001b[0;36mNDFrame._take_with_is_copy\u001b[0;34m(self, indices, axis)\u001b[0m\n\u001b[1;32m   4144\u001b[0m \u001b[38;5;250m\u001b[39m\u001b[38;5;124;03m\"\"\"\u001b[39;00m\n\u001b[1;32m   4145\u001b[0m \u001b[38;5;124;03mInternal version of the `take` method that sets the `_is_copy`\u001b[39;00m\n\u001b[1;32m   4146\u001b[0m \u001b[38;5;124;03mattribute to keep track of the parent dataframe (using in indexing\u001b[39;00m\n\u001b[0;32m   (...)\u001b[0m\n\u001b[1;32m   4151\u001b[0m \u001b[38;5;124;03mSee the docstring of `take` for full explanation of the parameters.\u001b[39;00m\n\u001b[1;32m   4152\u001b[0m \u001b[38;5;124;03m\"\"\"\u001b[39;00m\n\u001b[0;32m-> 4153\u001b[0m result \u001b[38;5;241m=\u001b[39m \u001b[38;5;28;43mself\u001b[39;49m\u001b[38;5;241;43m.\u001b[39;49m\u001b[43mtake\u001b[49m\u001b[43m(\u001b[49m\u001b[43mindices\u001b[49m\u001b[38;5;241;43m=\u001b[39;49m\u001b[43mindices\u001b[49m\u001b[43m,\u001b[49m\u001b[43m \u001b[49m\u001b[43maxis\u001b[49m\u001b[38;5;241;43m=\u001b[39;49m\u001b[43maxis\u001b[49m\u001b[43m)\u001b[49m\n\u001b[1;32m   4154\u001b[0m \u001b[38;5;66;03m# Maybe set copy if we didn't actually change the index.\u001b[39;00m\n",
      "File \u001b[0;32m~/anaconda3/envs/ml-env/lib/python3.10/site-packages/pandas/core/generic.py:4133\u001b[0m, in \u001b[0;36mNDFrame.take\u001b[0;34m(self, indices, axis, **kwargs)\u001b[0m\n\u001b[1;32m   4129\u001b[0m     indices \u001b[38;5;241m=\u001b[39m np\u001b[38;5;241m.\u001b[39marange(\n\u001b[1;32m   4130\u001b[0m         indices\u001b[38;5;241m.\u001b[39mstart, indices\u001b[38;5;241m.\u001b[39mstop, indices\u001b[38;5;241m.\u001b[39mstep, dtype\u001b[38;5;241m=\u001b[39mnp\u001b[38;5;241m.\u001b[39mintp\n\u001b[1;32m   4131\u001b[0m     )\n\u001b[0;32m-> 4133\u001b[0m new_data \u001b[38;5;241m=\u001b[39m \u001b[38;5;28;43mself\u001b[39;49m\u001b[38;5;241;43m.\u001b[39;49m\u001b[43m_mgr\u001b[49m\u001b[38;5;241;43m.\u001b[39;49m\u001b[43mtake\u001b[49m\u001b[43m(\u001b[49m\n\u001b[1;32m   4134\u001b[0m \u001b[43m    \u001b[49m\u001b[43mindices\u001b[49m\u001b[43m,\u001b[49m\n\u001b[1;32m   4135\u001b[0m \u001b[43m    \u001b[49m\u001b[43maxis\u001b[49m\u001b[38;5;241;43m=\u001b[39;49m\u001b[38;5;28;43mself\u001b[39;49m\u001b[38;5;241;43m.\u001b[39;49m\u001b[43m_get_block_manager_axis\u001b[49m\u001b[43m(\u001b[49m\u001b[43maxis\u001b[49m\u001b[43m)\u001b[49m\u001b[43m,\u001b[49m\n\u001b[1;32m   4136\u001b[0m \u001b[43m    \u001b[49m\u001b[43mverify\u001b[49m\u001b[38;5;241;43m=\u001b[39;49m\u001b[38;5;28;43;01mTrue\u001b[39;49;00m\u001b[43m,\u001b[49m\n\u001b[1;32m   4137\u001b[0m \u001b[43m\u001b[49m\u001b[43m)\u001b[49m\n\u001b[1;32m   4138\u001b[0m \u001b[38;5;28;01mreturn\u001b[39;00m \u001b[38;5;28mself\u001b[39m\u001b[38;5;241m.\u001b[39m_constructor_from_mgr(new_data, axes\u001b[38;5;241m=\u001b[39mnew_data\u001b[38;5;241m.\u001b[39maxes)\u001b[38;5;241m.\u001b[39m__finalize__(\n\u001b[1;32m   4139\u001b[0m     \u001b[38;5;28mself\u001b[39m, method\u001b[38;5;241m=\u001b[39m\u001b[38;5;124m\"\u001b[39m\u001b[38;5;124mtake\u001b[39m\u001b[38;5;124m\"\u001b[39m\n\u001b[1;32m   4140\u001b[0m )\n",
      "File \u001b[0;32m~/anaconda3/envs/ml-env/lib/python3.10/site-packages/pandas/core/internals/managers.py:891\u001b[0m, in \u001b[0;36mBaseBlockManager.take\u001b[0;34m(self, indexer, axis, verify)\u001b[0m\n\u001b[1;32m    890\u001b[0m n \u001b[38;5;241m=\u001b[39m \u001b[38;5;28mself\u001b[39m\u001b[38;5;241m.\u001b[39mshape[axis]\n\u001b[0;32m--> 891\u001b[0m indexer \u001b[38;5;241m=\u001b[39m \u001b[43mmaybe_convert_indices\u001b[49m\u001b[43m(\u001b[49m\u001b[43mindexer\u001b[49m\u001b[43m,\u001b[49m\u001b[43m \u001b[49m\u001b[43mn\u001b[49m\u001b[43m,\u001b[49m\u001b[43m \u001b[49m\u001b[43mverify\u001b[49m\u001b[38;5;241;43m=\u001b[39;49m\u001b[43mverify\u001b[49m\u001b[43m)\u001b[49m\n\u001b[1;32m    893\u001b[0m new_labels \u001b[38;5;241m=\u001b[39m \u001b[38;5;28mself\u001b[39m\u001b[38;5;241m.\u001b[39maxes[axis]\u001b[38;5;241m.\u001b[39mtake(indexer)\n",
      "File \u001b[0;32m~/anaconda3/envs/ml-env/lib/python3.10/site-packages/pandas/core/indexers/utils.py:282\u001b[0m, in \u001b[0;36mmaybe_convert_indices\u001b[0;34m(indices, n, verify)\u001b[0m\n\u001b[1;32m    281\u001b[0m     \u001b[38;5;28;01mif\u001b[39;00m mask\u001b[38;5;241m.\u001b[39many():\n\u001b[0;32m--> 282\u001b[0m         \u001b[38;5;28;01mraise\u001b[39;00m \u001b[38;5;167;01mIndexError\u001b[39;00m(\u001b[38;5;124m\"\u001b[39m\u001b[38;5;124mindices are out-of-bounds\u001b[39m\u001b[38;5;124m\"\u001b[39m)\n\u001b[1;32m    283\u001b[0m \u001b[38;5;28;01mreturn\u001b[39;00m indices\n",
      "\u001b[0;31mIndexError\u001b[0m: indices are out-of-bounds",
      "\nThe above exception was the direct cause of the following exception:\n",
      "\u001b[0;31mIndexError\u001b[0m                                Traceback (most recent call last)",
      "Cell \u001b[0;32mIn[164], line 7\u001b[0m\n\u001b[1;32m      5\u001b[0m \u001b[38;5;66;03m# Subset data\u001b[39;00m\n\u001b[1;32m      6\u001b[0m df_word2vecs_subset \u001b[38;5;241m=\u001b[39m df_word2vecs\u001b[38;5;241m.\u001b[39miloc[top_indices]\n\u001b[0;32m----> 7\u001b[0m y_subset \u001b[38;5;241m=\u001b[39m \u001b[43my\u001b[49m\u001b[38;5;241;43m.\u001b[39;49m\u001b[43miloc\u001b[49m\u001b[43m[\u001b[49m\u001b[43mtop_indices\u001b[49m\u001b[43m]\u001b[49m\n",
      "File \u001b[0;32m~/anaconda3/envs/ml-env/lib/python3.10/site-packages/pandas/core/indexing.py:1191\u001b[0m, in \u001b[0;36m_LocationIndexer.__getitem__\u001b[0;34m(self, key)\u001b[0m\n\u001b[1;32m   1189\u001b[0m maybe_callable \u001b[38;5;241m=\u001b[39m com\u001b[38;5;241m.\u001b[39mapply_if_callable(key, \u001b[38;5;28mself\u001b[39m\u001b[38;5;241m.\u001b[39mobj)\n\u001b[1;32m   1190\u001b[0m maybe_callable \u001b[38;5;241m=\u001b[39m \u001b[38;5;28mself\u001b[39m\u001b[38;5;241m.\u001b[39m_check_deprecated_callable_usage(key, maybe_callable)\n\u001b[0;32m-> 1191\u001b[0m \u001b[38;5;28;01mreturn\u001b[39;00m \u001b[38;5;28;43mself\u001b[39;49m\u001b[38;5;241;43m.\u001b[39;49m\u001b[43m_getitem_axis\u001b[49m\u001b[43m(\u001b[49m\u001b[43mmaybe_callable\u001b[49m\u001b[43m,\u001b[49m\u001b[43m \u001b[49m\u001b[43maxis\u001b[49m\u001b[38;5;241;43m=\u001b[39;49m\u001b[43maxis\u001b[49m\u001b[43m)\u001b[49m\n",
      "File \u001b[0;32m~/anaconda3/envs/ml-env/lib/python3.10/site-packages/pandas/core/indexing.py:1743\u001b[0m, in \u001b[0;36m_iLocIndexer._getitem_axis\u001b[0;34m(self, key, axis)\u001b[0m\n\u001b[1;32m   1741\u001b[0m \u001b[38;5;66;03m# a list of integers\u001b[39;00m\n\u001b[1;32m   1742\u001b[0m \u001b[38;5;28;01melif\u001b[39;00m is_list_like_indexer(key):\n\u001b[0;32m-> 1743\u001b[0m     \u001b[38;5;28;01mreturn\u001b[39;00m \u001b[38;5;28;43mself\u001b[39;49m\u001b[38;5;241;43m.\u001b[39;49m\u001b[43m_get_list_axis\u001b[49m\u001b[43m(\u001b[49m\u001b[43mkey\u001b[49m\u001b[43m,\u001b[49m\u001b[43m \u001b[49m\u001b[43maxis\u001b[49m\u001b[38;5;241;43m=\u001b[39;49m\u001b[43maxis\u001b[49m\u001b[43m)\u001b[49m\n\u001b[1;32m   1745\u001b[0m \u001b[38;5;66;03m# a single integer\u001b[39;00m\n\u001b[1;32m   1746\u001b[0m \u001b[38;5;28;01melse\u001b[39;00m:\n\u001b[1;32m   1747\u001b[0m     key \u001b[38;5;241m=\u001b[39m item_from_zerodim(key)\n",
      "File \u001b[0;32m~/anaconda3/envs/ml-env/lib/python3.10/site-packages/pandas/core/indexing.py:1717\u001b[0m, in \u001b[0;36m_iLocIndexer._get_list_axis\u001b[0;34m(self, key, axis)\u001b[0m\n\u001b[1;32m   1714\u001b[0m     \u001b[38;5;28;01mreturn\u001b[39;00m \u001b[38;5;28mself\u001b[39m\u001b[38;5;241m.\u001b[39mobj\u001b[38;5;241m.\u001b[39m_take_with_is_copy(key, axis\u001b[38;5;241m=\u001b[39maxis)\n\u001b[1;32m   1715\u001b[0m \u001b[38;5;28;01mexcept\u001b[39;00m \u001b[38;5;167;01mIndexError\u001b[39;00m \u001b[38;5;28;01mas\u001b[39;00m err:\n\u001b[1;32m   1716\u001b[0m     \u001b[38;5;66;03m# re-raise with different error message, e.g. test_getitem_ndarray_3d\u001b[39;00m\n\u001b[0;32m-> 1717\u001b[0m     \u001b[38;5;28;01mraise\u001b[39;00m \u001b[38;5;167;01mIndexError\u001b[39;00m(\u001b[38;5;124m\"\u001b[39m\u001b[38;5;124mpositional indexers are out-of-bounds\u001b[39m\u001b[38;5;124m\"\u001b[39m) \u001b[38;5;28;01mfrom\u001b[39;00m\u001b[38;5;250m \u001b[39m\u001b[38;5;21;01merr\u001b[39;00m\n",
      "\u001b[0;31mIndexError\u001b[0m: positional indexers are out-of-bounds"
     ]
    }
   ],
   "source": [
    "# Compute L2 norm of each embedding\n",
    "norms = np.linalg.norm(df_word2vecs.values, axis=1)\n",
    "top_indices = np.argsort(norms)[-10000:]  # Top 10K rows by norm\n",
    "\n",
    "# Subset data\n",
    "df_word2vecs_subset = df_word2vecs.iloc[top_indices]\n",
    "y_subset = y.iloc[top_indices]"
   ]
  },
  {
   "cell_type": "code",
   "execution_count": 156,
   "id": "a90e533f-7bc3-4433-afcb-2fa60a7f2d45",
   "metadata": {},
   "outputs": [
    {
     "data": {
      "text/html": [
       "<div>\n",
       "<style scoped>\n",
       "    .dataframe tbody tr th:only-of-type {\n",
       "        vertical-align: middle;\n",
       "    }\n",
       "\n",
       "    .dataframe tbody tr th {\n",
       "        vertical-align: top;\n",
       "    }\n",
       "\n",
       "    .dataframe thead th {\n",
       "        text-align: right;\n",
       "    }\n",
       "</style>\n",
       "<table border=\"1\" class=\"dataframe\">\n",
       "  <thead>\n",
       "    <tr style=\"text-align: right;\">\n",
       "      <th></th>\n",
       "      <th>dim_0</th>\n",
       "      <th>dim_1</th>\n",
       "      <th>dim_2</th>\n",
       "      <th>dim_3</th>\n",
       "      <th>dim_4</th>\n",
       "      <th>dim_5</th>\n",
       "      <th>dim_6</th>\n",
       "      <th>dim_7</th>\n",
       "      <th>dim_8</th>\n",
       "      <th>dim_9</th>\n",
       "      <th>...</th>\n",
       "      <th>dim_90</th>\n",
       "      <th>dim_91</th>\n",
       "      <th>dim_92</th>\n",
       "      <th>dim_93</th>\n",
       "      <th>dim_94</th>\n",
       "      <th>dim_95</th>\n",
       "      <th>dim_96</th>\n",
       "      <th>dim_97</th>\n",
       "      <th>dim_98</th>\n",
       "      <th>dim_99</th>\n",
       "    </tr>\n",
       "  </thead>\n",
       "  <tbody>\n",
       "    <tr>\n",
       "      <th>movie</th>\n",
       "      <td>0.272895</td>\n",
       "      <td>0.765450</td>\n",
       "      <td>0.641325</td>\n",
       "      <td>0.341747</td>\n",
       "      <td>-0.071058</td>\n",
       "      <td>-1.082406</td>\n",
       "      <td>0.202820</td>\n",
       "      <td>1.639051</td>\n",
       "      <td>-1.070110</td>\n",
       "      <td>-0.862591</td>\n",
       "      <td>...</td>\n",
       "      <td>0.047395</td>\n",
       "      <td>0.384759</td>\n",
       "      <td>0.662515</td>\n",
       "      <td>-0.264918</td>\n",
       "      <td>0.981066</td>\n",
       "      <td>0.520322</td>\n",
       "      <td>-0.200845</td>\n",
       "      <td>-0.390683</td>\n",
       "      <td>-0.019742</td>\n",
       "      <td>0.220464</td>\n",
       "    </tr>\n",
       "    <tr>\n",
       "      <th>film</th>\n",
       "      <td>0.001533</td>\n",
       "      <td>0.889542</td>\n",
       "      <td>0.928695</td>\n",
       "      <td>0.370945</td>\n",
       "      <td>0.421993</td>\n",
       "      <td>-0.713135</td>\n",
       "      <td>-0.225565</td>\n",
       "      <td>1.227649</td>\n",
       "      <td>-0.774662</td>\n",
       "      <td>-0.596193</td>\n",
       "      <td>...</td>\n",
       "      <td>0.582380</td>\n",
       "      <td>-0.271749</td>\n",
       "      <td>0.322501</td>\n",
       "      <td>-0.751938</td>\n",
       "      <td>1.001907</td>\n",
       "      <td>0.616401</td>\n",
       "      <td>-0.025812</td>\n",
       "      <td>-0.540502</td>\n",
       "      <td>-0.482927</td>\n",
       "      <td>0.299009</td>\n",
       "    </tr>\n",
       "    <tr>\n",
       "      <th>like</th>\n",
       "      <td>0.178736</td>\n",
       "      <td>0.156657</td>\n",
       "      <td>-0.713545</td>\n",
       "      <td>-0.055147</td>\n",
       "      <td>0.777827</td>\n",
       "      <td>-0.365191</td>\n",
       "      <td>0.039662</td>\n",
       "      <td>0.492059</td>\n",
       "      <td>-0.260093</td>\n",
       "      <td>0.256524</td>\n",
       "      <td>...</td>\n",
       "      <td>0.251275</td>\n",
       "      <td>0.422502</td>\n",
       "      <td>1.367699</td>\n",
       "      <td>-0.132029</td>\n",
       "      <td>0.909186</td>\n",
       "      <td>0.637352</td>\n",
       "      <td>0.341468</td>\n",
       "      <td>-0.016807</td>\n",
       "      <td>0.337173</td>\n",
       "      <td>-0.315678</td>\n",
       "    </tr>\n",
       "    <tr>\n",
       "      <th>good</th>\n",
       "      <td>0.042580</td>\n",
       "      <td>0.465655</td>\n",
       "      <td>0.450201</td>\n",
       "      <td>0.929285</td>\n",
       "      <td>0.623112</td>\n",
       "      <td>-0.839106</td>\n",
       "      <td>0.089404</td>\n",
       "      <td>1.536049</td>\n",
       "      <td>0.206828</td>\n",
       "      <td>-1.040280</td>\n",
       "      <td>...</td>\n",
       "      <td>-0.394291</td>\n",
       "      <td>-0.316390</td>\n",
       "      <td>0.535833</td>\n",
       "      <td>0.135284</td>\n",
       "      <td>0.674994</td>\n",
       "      <td>0.443565</td>\n",
       "      <td>-0.020965</td>\n",
       "      <td>-0.792569</td>\n",
       "      <td>0.410898</td>\n",
       "      <td>-0.642700</td>\n",
       "    </tr>\n",
       "    <tr>\n",
       "      <th>time</th>\n",
       "      <td>-0.228072</td>\n",
       "      <td>0.185881</td>\n",
       "      <td>0.382776</td>\n",
       "      <td>0.497545</td>\n",
       "      <td>0.107929</td>\n",
       "      <td>0.020307</td>\n",
       "      <td>0.366366</td>\n",
       "      <td>0.640083</td>\n",
       "      <td>-1.242107</td>\n",
       "      <td>0.042393</td>\n",
       "      <td>...</td>\n",
       "      <td>0.700968</td>\n",
       "      <td>-0.050782</td>\n",
       "      <td>0.561958</td>\n",
       "      <td>0.110204</td>\n",
       "      <td>0.795367</td>\n",
       "      <td>-0.507016</td>\n",
       "      <td>0.355315</td>\n",
       "      <td>0.327284</td>\n",
       "      <td>-0.207776</td>\n",
       "      <td>0.378284</td>\n",
       "    </tr>\n",
       "  </tbody>\n",
       "</table>\n",
       "<p>5 rows × 100 columns</p>\n",
       "</div>"
      ],
      "text/plain": [
       "          dim_0     dim_1     dim_2     dim_3     dim_4     dim_5     dim_6  \\\n",
       "movie  0.272895  0.765450  0.641325  0.341747 -0.071058 -1.082406  0.202820   \n",
       "film   0.001533  0.889542  0.928695  0.370945  0.421993 -0.713135 -0.225565   \n",
       "like   0.178736  0.156657 -0.713545 -0.055147  0.777827 -0.365191  0.039662   \n",
       "good   0.042580  0.465655  0.450201  0.929285  0.623112 -0.839106  0.089404   \n",
       "time  -0.228072  0.185881  0.382776  0.497545  0.107929  0.020307  0.366366   \n",
       "\n",
       "          dim_7     dim_8     dim_9  ...    dim_90    dim_91    dim_92  \\\n",
       "movie  1.639051 -1.070110 -0.862591  ...  0.047395  0.384759  0.662515   \n",
       "film   1.227649 -0.774662 -0.596193  ...  0.582380 -0.271749  0.322501   \n",
       "like   0.492059 -0.260093  0.256524  ...  0.251275  0.422502  1.367699   \n",
       "good   1.536049  0.206828 -1.040280  ... -0.394291 -0.316390  0.535833   \n",
       "time   0.640083 -1.242107  0.042393  ...  0.700968 -0.050782  0.561958   \n",
       "\n",
       "         dim_93    dim_94    dim_95    dim_96    dim_97    dim_98    dim_99  \n",
       "movie -0.264918  0.981066  0.520322 -0.200845 -0.390683 -0.019742  0.220464  \n",
       "film  -0.751938  1.001907  0.616401 -0.025812 -0.540502 -0.482927  0.299009  \n",
       "like  -0.132029  0.909186  0.637352  0.341468 -0.016807  0.337173 -0.315678  \n",
       "good   0.135284  0.674994  0.443565 -0.020965 -0.792569  0.410898 -0.642700  \n",
       "time   0.110204  0.795367 -0.507016  0.355315  0.327284 -0.207776  0.378284  \n",
       "\n",
       "[5 rows x 100 columns]"
      ]
     },
     "execution_count": 156,
     "metadata": {},
     "output_type": "execute_result"
    }
   ],
   "source": [
    "df_word2vecs"
   ]
  },
  {
   "cell_type": "code",
   "execution_count": 161,
   "id": "48e2065c-a42c-44cb-bfb2-bfcc510b3a58",
   "metadata": {},
   "outputs": [
    {
     "data": {
      "text/plain": [
       "(15041, 100)"
      ]
     },
     "execution_count": 161,
     "metadata": {},
     "output_type": "execute_result"
    }
   ],
   "source": [
    "df_word2vecs.shape"
   ]
  },
  {
   "cell_type": "code",
   "execution_count": 160,
   "id": "348d9ed5-d532-46fa-ad70-8b7bdb4c0978",
   "metadata": {},
   "outputs": [
    {
     "ename": "ValueError",
     "evalue": "Found input variables with inconsistent numbers of samples: [15041, 10000]",
     "output_type": "error",
     "traceback": [
      "\u001b[0;31m---------------------------------------------------------------------------\u001b[0m",
      "\u001b[0;31mValueError\u001b[0m                                Traceback (most recent call last)",
      "Cell \u001b[0;32mIn[160], line 1\u001b[0m\n\u001b[0;32m----> 1\u001b[0m x_train, x_test, y_train, y_test \u001b[38;5;241m=\u001b[39m \u001b[43mtrain_test_split\u001b[49m\u001b[43m(\u001b[49m\u001b[43mdf_word2vecs\u001b[49m\u001b[43m,\u001b[49m\u001b[43m \u001b[49m\u001b[43my\u001b[49m\u001b[43m,\u001b[49m\u001b[43m \u001b[49m\u001b[43mtest_size\u001b[49m\u001b[38;5;241;43m=\u001b[39;49m\u001b[38;5;241;43m0.2\u001b[39;49m\u001b[43m,\u001b[49m\u001b[43m \u001b[49m\u001b[43mrandom_state\u001b[49m\u001b[38;5;241;43m=\u001b[39;49m\u001b[43m \u001b[49m\u001b[38;5;28;43;01mFalse\u001b[39;49;00m\u001b[43m)\u001b[49m\n",
      "File \u001b[0;32m~/anaconda3/envs/ml-env/lib/python3.10/site-packages/sklearn/utils/_param_validation.py:216\u001b[0m, in \u001b[0;36mvalidate_params.<locals>.decorator.<locals>.wrapper\u001b[0;34m(*args, **kwargs)\u001b[0m\n\u001b[1;32m    210\u001b[0m \u001b[38;5;28;01mtry\u001b[39;00m:\n\u001b[1;32m    211\u001b[0m     \u001b[38;5;28;01mwith\u001b[39;00m config_context(\n\u001b[1;32m    212\u001b[0m         skip_parameter_validation\u001b[38;5;241m=\u001b[39m(\n\u001b[1;32m    213\u001b[0m             prefer_skip_nested_validation \u001b[38;5;129;01mor\u001b[39;00m global_skip_validation\n\u001b[1;32m    214\u001b[0m         )\n\u001b[1;32m    215\u001b[0m     ):\n\u001b[0;32m--> 216\u001b[0m         \u001b[38;5;28;01mreturn\u001b[39;00m \u001b[43mfunc\u001b[49m\u001b[43m(\u001b[49m\u001b[38;5;241;43m*\u001b[39;49m\u001b[43margs\u001b[49m\u001b[43m,\u001b[49m\u001b[43m \u001b[49m\u001b[38;5;241;43m*\u001b[39;49m\u001b[38;5;241;43m*\u001b[39;49m\u001b[43mkwargs\u001b[49m\u001b[43m)\u001b[49m\n\u001b[1;32m    217\u001b[0m \u001b[38;5;28;01mexcept\u001b[39;00m InvalidParameterError \u001b[38;5;28;01mas\u001b[39;00m e:\n\u001b[1;32m    218\u001b[0m     \u001b[38;5;66;03m# When the function is just a wrapper around an estimator, we allow\u001b[39;00m\n\u001b[1;32m    219\u001b[0m     \u001b[38;5;66;03m# the function to delegate validation to the estimator, but we replace\u001b[39;00m\n\u001b[1;32m    220\u001b[0m     \u001b[38;5;66;03m# the name of the estimator by the name of the function in the error\u001b[39;00m\n\u001b[1;32m    221\u001b[0m     \u001b[38;5;66;03m# message to avoid confusion.\u001b[39;00m\n\u001b[1;32m    222\u001b[0m     msg \u001b[38;5;241m=\u001b[39m re\u001b[38;5;241m.\u001b[39msub(\n\u001b[1;32m    223\u001b[0m         \u001b[38;5;124mr\u001b[39m\u001b[38;5;124m\"\u001b[39m\u001b[38;5;124mparameter of \u001b[39m\u001b[38;5;124m\\\u001b[39m\u001b[38;5;124mw+ must be\u001b[39m\u001b[38;5;124m\"\u001b[39m,\n\u001b[1;32m    224\u001b[0m         \u001b[38;5;124mf\u001b[39m\u001b[38;5;124m\"\u001b[39m\u001b[38;5;124mparameter of \u001b[39m\u001b[38;5;132;01m{\u001b[39;00mfunc\u001b[38;5;241m.\u001b[39m\u001b[38;5;18m__qualname__\u001b[39m\u001b[38;5;132;01m}\u001b[39;00m\u001b[38;5;124m must be\u001b[39m\u001b[38;5;124m\"\u001b[39m,\n\u001b[1;32m    225\u001b[0m         \u001b[38;5;28mstr\u001b[39m(e),\n\u001b[1;32m    226\u001b[0m     )\n",
      "File \u001b[0;32m~/anaconda3/envs/ml-env/lib/python3.10/site-packages/sklearn/model_selection/_split.py:2848\u001b[0m, in \u001b[0;36mtrain_test_split\u001b[0;34m(test_size, train_size, random_state, shuffle, stratify, *arrays)\u001b[0m\n\u001b[1;32m   2845\u001b[0m \u001b[38;5;28;01mif\u001b[39;00m n_arrays \u001b[38;5;241m==\u001b[39m \u001b[38;5;241m0\u001b[39m:\n\u001b[1;32m   2846\u001b[0m     \u001b[38;5;28;01mraise\u001b[39;00m \u001b[38;5;167;01mValueError\u001b[39;00m(\u001b[38;5;124m\"\u001b[39m\u001b[38;5;124mAt least one array required as input\u001b[39m\u001b[38;5;124m\"\u001b[39m)\n\u001b[0;32m-> 2848\u001b[0m arrays \u001b[38;5;241m=\u001b[39m \u001b[43mindexable\u001b[49m\u001b[43m(\u001b[49m\u001b[38;5;241;43m*\u001b[39;49m\u001b[43marrays\u001b[49m\u001b[43m)\u001b[49m\n\u001b[1;32m   2850\u001b[0m n_samples \u001b[38;5;241m=\u001b[39m _num_samples(arrays[\u001b[38;5;241m0\u001b[39m])\n\u001b[1;32m   2851\u001b[0m n_train, n_test \u001b[38;5;241m=\u001b[39m _validate_shuffle_split(\n\u001b[1;32m   2852\u001b[0m     n_samples, test_size, train_size, default_test_size\u001b[38;5;241m=\u001b[39m\u001b[38;5;241m0.25\u001b[39m\n\u001b[1;32m   2853\u001b[0m )\n",
      "File \u001b[0;32m~/anaconda3/envs/ml-env/lib/python3.10/site-packages/sklearn/utils/validation.py:532\u001b[0m, in \u001b[0;36mindexable\u001b[0;34m(*iterables)\u001b[0m\n\u001b[1;32m    502\u001b[0m \u001b[38;5;250m\u001b[39m\u001b[38;5;124;03m\"\"\"Make arrays indexable for cross-validation.\u001b[39;00m\n\u001b[1;32m    503\u001b[0m \n\u001b[1;32m    504\u001b[0m \u001b[38;5;124;03mChecks consistent length, passes through None, and ensures that everything\u001b[39;00m\n\u001b[0;32m   (...)\u001b[0m\n\u001b[1;32m    528\u001b[0m \u001b[38;5;124;03m[[1, 2, 3], array([2, 3, 4]), None, <...Sparse...dtype 'int64'...shape (3, 1)>]\u001b[39;00m\n\u001b[1;32m    529\u001b[0m \u001b[38;5;124;03m\"\"\"\u001b[39;00m\n\u001b[1;32m    531\u001b[0m result \u001b[38;5;241m=\u001b[39m [_make_indexable(X) \u001b[38;5;28;01mfor\u001b[39;00m X \u001b[38;5;129;01min\u001b[39;00m iterables]\n\u001b[0;32m--> 532\u001b[0m \u001b[43mcheck_consistent_length\u001b[49m\u001b[43m(\u001b[49m\u001b[38;5;241;43m*\u001b[39;49m\u001b[43mresult\u001b[49m\u001b[43m)\u001b[49m\n\u001b[1;32m    533\u001b[0m \u001b[38;5;28;01mreturn\u001b[39;00m result\n",
      "File \u001b[0;32m~/anaconda3/envs/ml-env/lib/python3.10/site-packages/sklearn/utils/validation.py:475\u001b[0m, in \u001b[0;36mcheck_consistent_length\u001b[0;34m(*arrays)\u001b[0m\n\u001b[1;32m    473\u001b[0m uniques \u001b[38;5;241m=\u001b[39m np\u001b[38;5;241m.\u001b[39munique(lengths)\n\u001b[1;32m    474\u001b[0m \u001b[38;5;28;01mif\u001b[39;00m \u001b[38;5;28mlen\u001b[39m(uniques) \u001b[38;5;241m>\u001b[39m \u001b[38;5;241m1\u001b[39m:\n\u001b[0;32m--> 475\u001b[0m     \u001b[38;5;28;01mraise\u001b[39;00m \u001b[38;5;167;01mValueError\u001b[39;00m(\n\u001b[1;32m    476\u001b[0m         \u001b[38;5;124m\"\u001b[39m\u001b[38;5;124mFound input variables with inconsistent numbers of samples: \u001b[39m\u001b[38;5;132;01m%r\u001b[39;00m\u001b[38;5;124m\"\u001b[39m\n\u001b[1;32m    477\u001b[0m         \u001b[38;5;241m%\u001b[39m [\u001b[38;5;28mint\u001b[39m(l) \u001b[38;5;28;01mfor\u001b[39;00m l \u001b[38;5;129;01min\u001b[39;00m lengths]\n\u001b[1;32m    478\u001b[0m     )\n",
      "\u001b[0;31mValueError\u001b[0m: Found input variables with inconsistent numbers of samples: [15041, 10000]"
     ]
    }
   ],
   "source": [
    "x_train, x_test, y_train, y_test = train_test_split(df_word2vecs, y, test_size=0.2, random_state= False)"
   ]
  },
  {
   "cell_type": "code",
   "execution_count": 127,
   "id": "89a04a94-8a5d-4973-a409-d27c7e910cce",
   "metadata": {},
   "outputs": [],
   "source": [
    "rmf = RandomForestClassifier(n_jobs= -1)\n",
    "nb = MultinomialNB()"
   ]
  },
  {
   "cell_type": "code",
   "execution_count": 128,
   "id": "4c969e15-a496-4b08-a975-d710425a55e0",
   "metadata": {},
   "outputs": [],
   "source": [
    "rmf.fit(x_train, y_train)\n",
    "nb.fit(x_train, y_train)\n",
    "y_pred1 = rmf.predict(x_test)\n",
    "y_pred2 = nb.predict(x_test)"
   ]
  },
  {
   "cell_type": "code",
   "execution_count": 129,
   "id": "116ed1ea-1247-4a73-8b16-e76154f3dc39",
   "metadata": {},
   "outputs": [
    {
     "name": "stdout",
     "output_type": "stream",
     "text": [
      "Random_forest:  84.7\n",
      "Naive_bayse:  84.45\n"
     ]
    }
   ],
   "source": [
    "print(\"Random_forest: \", accuracy_score(y_test, y_pred1)*100)\n",
    "print(\"Naive_bayse: \", accuracy_score(y_test, y_pred2)*100)"
   ]
  }
 ],
 "metadata": {
  "kernelspec": {
   "display_name": "Python 3 (ipykernel)",
   "language": "python",
   "name": "python3"
  },
  "language_info": {
   "codemirror_mode": {
    "name": "ipython",
    "version": 3
   },
   "file_extension": ".py",
   "mimetype": "text/x-python",
   "name": "python",
   "nbconvert_exporter": "python",
   "pygments_lexer": "ipython3",
   "version": "3.10.16"
  },
  "widgets": {
   "application/vnd.jupyter.widget-state+json": {
    "state": {
     "008ec98f2f474857a4e600738d60ffc4": {
      "model_module": "@jupyter-widgets/controls",
      "model_module_version": "2.0.0",
      "model_name": "HTMLModel",
      "state": {
       "layout": "IPY_MODEL_beebf04e33cc4466a054e77d42c3fae1",
       "style": "IPY_MODEL_0c9d147024ed4724b621bcde6a09b9e9",
       "value": "100%"
      }
     },
     "06ec1cdddae5411991a9b9ff32404e5b": {
      "model_module": "@jupyter-widgets/controls",
      "model_module_version": "2.0.0",
      "model_name": "HTMLStyleModel",
      "state": {
       "description_width": "",
       "font_size": null,
       "text_color": null
      }
     },
     "0c9d147024ed4724b621bcde6a09b9e9": {
      "model_module": "@jupyter-widgets/controls",
      "model_module_version": "2.0.0",
      "model_name": "HTMLStyleModel",
      "state": {
       "description_width": "",
       "font_size": null,
       "text_color": null
      }
     },
     "0e508f1a815c48cab46371a5f6da6323": {
      "model_module": "@jupyter-widgets/base",
      "model_module_version": "2.0.0",
      "model_name": "LayoutModel",
      "state": {}
     },
     "37a8910bfd13410984b508a5f8a37f60": {
      "model_module": "@jupyter-widgets/base",
      "model_module_version": "2.0.0",
      "model_name": "LayoutModel",
      "state": {}
     },
     "3a9ed6ecb1ad46e6a6836d1848f8512b": {
      "model_module": "@jupyter-widgets/base",
      "model_module_version": "2.0.0",
      "model_name": "LayoutModel",
      "state": {}
     },
     "59563a6cb0994aaf874492d5d28de645": {
      "model_module": "@jupyter-widgets/base",
      "model_module_version": "2.0.0",
      "model_name": "LayoutModel",
      "state": {}
     },
     "60bc7d85c6ac42d5a4a4da4d259bd952": {
      "model_module": "@jupyter-widgets/controls",
      "model_module_version": "2.0.0",
      "model_name": "HBoxModel",
      "state": {
       "children": [
        "IPY_MODEL_008ec98f2f474857a4e600738d60ffc4",
        "IPY_MODEL_75f92355e004478c9ca65f43a185afb1",
        "IPY_MODEL_60f6f38b15f8461abe8f9e4c47e21f70"
       ],
       "layout": "IPY_MODEL_59563a6cb0994aaf874492d5d28de645"
      }
     },
     "60f6f38b15f8461abe8f9e4c47e21f70": {
      "model_module": "@jupyter-widgets/controls",
      "model_module_version": "2.0.0",
      "model_name": "HTMLModel",
      "state": {
       "layout": "IPY_MODEL_d963958b302c4e2593892e4bf5c3ba35",
       "style": "IPY_MODEL_9e89d345a1e144dca52bcfec4de548f3",
       "value": " 10000/10000 [02:44&lt;00:00, 196.40it/s]"
      }
     },
     "66a0fcba107d42faabe920ca3fb19d6d": {
      "model_module": "@jupyter-widgets/controls",
      "model_module_version": "2.0.0",
      "model_name": "HTMLStyleModel",
      "state": {
       "description_width": "",
       "font_size": null,
       "text_color": null
      }
     },
     "75f92355e004478c9ca65f43a185afb1": {
      "model_module": "@jupyter-widgets/controls",
      "model_module_version": "2.0.0",
      "model_name": "FloatProgressModel",
      "state": {
       "bar_style": "success",
       "layout": "IPY_MODEL_3a9ed6ecb1ad46e6a6836d1848f8512b",
       "max": 10000,
       "style": "IPY_MODEL_90a4c5a407714e56b4ed8e71fc283b85",
       "value": 10000
      }
     },
     "90a4c5a407714e56b4ed8e71fc283b85": {
      "model_module": "@jupyter-widgets/controls",
      "model_module_version": "2.0.0",
      "model_name": "ProgressStyleModel",
      "state": {
       "description_width": ""
      }
     },
     "9e89d345a1e144dca52bcfec4de548f3": {
      "model_module": "@jupyter-widgets/controls",
      "model_module_version": "2.0.0",
      "model_name": "HTMLStyleModel",
      "state": {
       "description_width": "",
       "font_size": null,
       "text_color": null
      }
     },
     "a226a28baba7404ea6b70e122e43b6b6": {
      "model_module": "@jupyter-widgets/controls",
      "model_module_version": "2.0.0",
      "model_name": "HBoxModel",
      "state": {
       "children": [
        "IPY_MODEL_badc90520aec4d20bd0e0a28a3273779",
        "IPY_MODEL_ea9c931d233e40498dc2aff3e18c2721",
        "IPY_MODEL_bd355addcc1a419eb4a1add017788091"
       ],
       "layout": "IPY_MODEL_e235dc913bc34ae38d2305638baf5338"
      }
     },
     "badc90520aec4d20bd0e0a28a3273779": {
      "model_module": "@jupyter-widgets/controls",
      "model_module_version": "2.0.0",
      "model_name": "HTMLModel",
      "state": {
       "layout": "IPY_MODEL_fb4490f499ab408fbfe2173f246218b3",
       "style": "IPY_MODEL_06ec1cdddae5411991a9b9ff32404e5b",
       "value": "100%"
      }
     },
     "bc5dd73965954051a70fff3efd86e18a": {
      "model_module": "@jupyter-widgets/controls",
      "model_module_version": "2.0.0",
      "model_name": "ProgressStyleModel",
      "state": {
       "description_width": ""
      }
     },
     "bd355addcc1a419eb4a1add017788091": {
      "model_module": "@jupyter-widgets/controls",
      "model_module_version": "2.0.0",
      "model_name": "HTMLModel",
      "state": {
       "layout": "IPY_MODEL_37a8910bfd13410984b508a5f8a37f60",
       "style": "IPY_MODEL_66a0fcba107d42faabe920ca3fb19d6d",
       "value": " 10000/10000 [00:00&lt;00:00, 535773.65it/s]"
      }
     },
     "beebf04e33cc4466a054e77d42c3fae1": {
      "model_module": "@jupyter-widgets/base",
      "model_module_version": "2.0.0",
      "model_name": "LayoutModel",
      "state": {}
     },
     "d963958b302c4e2593892e4bf5c3ba35": {
      "model_module": "@jupyter-widgets/base",
      "model_module_version": "2.0.0",
      "model_name": "LayoutModel",
      "state": {}
     },
     "e235dc913bc34ae38d2305638baf5338": {
      "model_module": "@jupyter-widgets/base",
      "model_module_version": "2.0.0",
      "model_name": "LayoutModel",
      "state": {}
     },
     "ea9c931d233e40498dc2aff3e18c2721": {
      "model_module": "@jupyter-widgets/controls",
      "model_module_version": "2.0.0",
      "model_name": "FloatProgressModel",
      "state": {
       "bar_style": "success",
       "layout": "IPY_MODEL_0e508f1a815c48cab46371a5f6da6323",
       "max": 10000,
       "style": "IPY_MODEL_bc5dd73965954051a70fff3efd86e18a",
       "value": 10000
      }
     },
     "fb4490f499ab408fbfe2173f246218b3": {
      "model_module": "@jupyter-widgets/base",
      "model_module_version": "2.0.0",
      "model_name": "LayoutModel",
      "state": {}
     }
    },
    "version_major": 2,
    "version_minor": 0
   }
  }
 },
 "nbformat": 4,
 "nbformat_minor": 5
}
