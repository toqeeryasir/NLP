{
 "cells": [
  {
   "cell_type": "code",
   "execution_count": 1,
   "id": "6d008437-5dcd-499d-aba8-80ac90235ef3",
   "metadata": {},
   "outputs": [],
   "source": [
    "import numpy as np\n",
    "import pandas as pd\n",
    "from tqdm import tqdm"
   ]
  },
  {
   "cell_type": "code",
   "execution_count": 2,
   "id": "e422ebde-f8b3-4c48-918f-c1e65436dfac",
   "metadata": {},
   "outputs": [],
   "source": [
    "df = pd.read_csv(\"movies_data.csv\")"
   ]
  },
  {
   "cell_type": "code",
   "execution_count": 3,
   "id": "c8a1e815-3be7-45ae-9ca9-d124216359f5",
   "metadata": {},
   "outputs": [
    {
     "data": {
      "text/plain": [
       "(10000, 4)"
      ]
     },
     "execution_count": 3,
     "metadata": {},
     "output_type": "execute_result"
    }
   ],
   "source": [
    "df.shape"
   ]
  },
  {
   "cell_type": "code",
   "execution_count": 4,
   "id": "2bfb3c3a-86b8-4aa5-9902-198ddc4f12e2",
   "metadata": {},
   "outputs": [
    {
     "data": {
      "text/html": [
       "<div>\n",
       "<style scoped>\n",
       "    .dataframe tbody tr th:only-of-type {\n",
       "        vertical-align: middle;\n",
       "    }\n",
       "\n",
       "    .dataframe tbody tr th {\n",
       "        vertical-align: top;\n",
       "    }\n",
       "\n",
       "    .dataframe thead th {\n",
       "        text-align: right;\n",
       "    }\n",
       "</style>\n",
       "<table border=\"1\" class=\"dataframe\">\n",
       "  <thead>\n",
       "    <tr style=\"text-align: right;\">\n",
       "      <th></th>\n",
       "      <th>title</th>\n",
       "      <th>rating</th>\n",
       "      <th>movie_type</th>\n",
       "      <th>overview</th>\n",
       "    </tr>\n",
       "  </thead>\n",
       "  <tbody>\n",
       "    <tr>\n",
       "      <th>0</th>\n",
       "      <td>The Shawshank Redemption</td>\n",
       "      <td>8.712</td>\n",
       "      <td>['Drama', 'Crime']</td>\n",
       "      <td>Imprisoned in the 1940s for the double murder ...</td>\n",
       "    </tr>\n",
       "    <tr>\n",
       "      <th>1</th>\n",
       "      <td>The Godfather</td>\n",
       "      <td>8.686</td>\n",
       "      <td>['Drama', 'Crime']</td>\n",
       "      <td>Spanning the years 1945 to 1955, a chronicle o...</td>\n",
       "    </tr>\n",
       "    <tr>\n",
       "      <th>2</th>\n",
       "      <td>The Godfather Part II</td>\n",
       "      <td>8.571</td>\n",
       "      <td>['Drama', 'Crime']</td>\n",
       "      <td>In the continuing saga of the Corleone crime f...</td>\n",
       "    </tr>\n",
       "    <tr>\n",
       "      <th>3</th>\n",
       "      <td>Schindler's List</td>\n",
       "      <td>8.566</td>\n",
       "      <td>['Drama', 'History', 'War']</td>\n",
       "      <td>The true story of how businessman Oskar Schind...</td>\n",
       "    </tr>\n",
       "    <tr>\n",
       "      <th>4</th>\n",
       "      <td>12 Angry Men</td>\n",
       "      <td>8.549</td>\n",
       "      <td>['Drama']</td>\n",
       "      <td>The defense and the prosecution have rested an...</td>\n",
       "    </tr>\n",
       "  </tbody>\n",
       "</table>\n",
       "</div>"
      ],
      "text/plain": [
       "                      title  rating                   movie_type  \\\n",
       "0  The Shawshank Redemption   8.712           ['Drama', 'Crime']   \n",
       "1             The Godfather   8.686           ['Drama', 'Crime']   \n",
       "2     The Godfather Part II   8.571           ['Drama', 'Crime']   \n",
       "3          Schindler's List   8.566  ['Drama', 'History', 'War']   \n",
       "4              12 Angry Men   8.549                    ['Drama']   \n",
       "\n",
       "                                            overview  \n",
       "0  Imprisoned in the 1940s for the double murder ...  \n",
       "1  Spanning the years 1945 to 1955, a chronicle o...  \n",
       "2  In the continuing saga of the Corleone crime f...  \n",
       "3  The true story of how businessman Oskar Schind...  \n",
       "4  The defense and the prosecution have rested an...  "
      ]
     },
     "execution_count": 4,
     "metadata": {},
     "output_type": "execute_result"
    }
   ],
   "source": [
    "df.head()"
   ]
  },
  {
   "cell_type": "code",
   "execution_count": 5,
   "id": "9f8d7d21-90c0-4315-93fa-a1d8c5cf58ea",
   "metadata": {},
   "outputs": [],
   "source": [
    "import ast\n",
    "df['movie_type'] = df['movie_type'].apply(ast.literal_eval)"
   ]
  },
  {
   "cell_type": "code",
   "execution_count": 6,
   "id": "54f23036-5979-44c9-9c48-971f937739fb",
   "metadata": {},
   "outputs": [
    {
     "data": {
      "text/html": [
       "<div>\n",
       "<style scoped>\n",
       "    .dataframe tbody tr th:only-of-type {\n",
       "        vertical-align: middle;\n",
       "    }\n",
       "\n",
       "    .dataframe tbody tr th {\n",
       "        vertical-align: top;\n",
       "    }\n",
       "\n",
       "    .dataframe thead th {\n",
       "        text-align: right;\n",
       "    }\n",
       "</style>\n",
       "<table border=\"1\" class=\"dataframe\">\n",
       "  <thead>\n",
       "    <tr style=\"text-align: right;\">\n",
       "      <th></th>\n",
       "      <th>title</th>\n",
       "      <th>movie_type</th>\n",
       "      <th>overview</th>\n",
       "    </tr>\n",
       "  </thead>\n",
       "  <tbody>\n",
       "    <tr>\n",
       "      <th>0</th>\n",
       "      <td>The Shawshank Redemption</td>\n",
       "      <td>[Drama, Crime]</td>\n",
       "      <td>Imprisoned in the 1940s for the double murder ...</td>\n",
       "    </tr>\n",
       "    <tr>\n",
       "      <th>1</th>\n",
       "      <td>The Godfather</td>\n",
       "      <td>[Drama, Crime]</td>\n",
       "      <td>Spanning the years 1945 to 1955, a chronicle o...</td>\n",
       "    </tr>\n",
       "    <tr>\n",
       "      <th>2</th>\n",
       "      <td>The Godfather Part II</td>\n",
       "      <td>[Drama, Crime]</td>\n",
       "      <td>In the continuing saga of the Corleone crime f...</td>\n",
       "    </tr>\n",
       "    <tr>\n",
       "      <th>3</th>\n",
       "      <td>Schindler's List</td>\n",
       "      <td>[Drama, History, War]</td>\n",
       "      <td>The true story of how businessman Oskar Schind...</td>\n",
       "    </tr>\n",
       "    <tr>\n",
       "      <th>4</th>\n",
       "      <td>12 Angry Men</td>\n",
       "      <td>[Drama]</td>\n",
       "      <td>The defense and the prosecution have rested an...</td>\n",
       "    </tr>\n",
       "  </tbody>\n",
       "</table>\n",
       "</div>"
      ],
      "text/plain": [
       "                      title             movie_type  \\\n",
       "0  The Shawshank Redemption         [Drama, Crime]   \n",
       "1             The Godfather         [Drama, Crime]   \n",
       "2     The Godfather Part II         [Drama, Crime]   \n",
       "3          Schindler's List  [Drama, History, War]   \n",
       "4              12 Angry Men                [Drama]   \n",
       "\n",
       "                                            overview  \n",
       "0  Imprisoned in the 1940s for the double murder ...  \n",
       "1  Spanning the years 1945 to 1955, a chronicle o...  \n",
       "2  In the continuing saga of the Corleone crime f...  \n",
       "3  The true story of how businessman Oskar Schind...  \n",
       "4  The defense and the prosecution have rested an...  "
      ]
     },
     "execution_count": 6,
     "metadata": {},
     "output_type": "execute_result"
    }
   ],
   "source": [
    "df = df.drop(columns=\"rating\")\n",
    "df.head()"
   ]
  },
  {
   "cell_type": "code",
   "execution_count": 7,
   "id": "c0563780-2bef-4776-99bb-c2bb822c9546",
   "metadata": {},
   "outputs": [
    {
     "data": {
      "text/html": [
       "<div>\n",
       "<style scoped>\n",
       "    .dataframe tbody tr th:only-of-type {\n",
       "        vertical-align: middle;\n",
       "    }\n",
       "\n",
       "    .dataframe tbody tr th {\n",
       "        vertical-align: top;\n",
       "    }\n",
       "\n",
       "    .dataframe thead th {\n",
       "        text-align: right;\n",
       "    }\n",
       "</style>\n",
       "<table border=\"1\" class=\"dataframe\">\n",
       "  <thead>\n",
       "    <tr style=\"text-align: right;\">\n",
       "      <th></th>\n",
       "      <th>title</th>\n",
       "      <th>movie_type</th>\n",
       "      <th>overview</th>\n",
       "    </tr>\n",
       "  </thead>\n",
       "  <tbody>\n",
       "    <tr>\n",
       "      <th>6445</th>\n",
       "      <td>Ret</td>\n",
       "      <td>[Drama, History]</td>\n",
       "      <td>NaN</td>\n",
       "    </tr>\n",
       "  </tbody>\n",
       "</table>\n",
       "</div>"
      ],
      "text/plain": [
       "     title        movie_type overview\n",
       "6445   Ret  [Drama, History]      NaN"
      ]
     },
     "execution_count": 7,
     "metadata": {},
     "output_type": "execute_result"
    }
   ],
   "source": [
    "df[df['overview'].isnull() == True]"
   ]
  },
  {
   "cell_type": "code",
   "execution_count": 8,
   "id": "32b4dba1-b28d-4c71-88b0-7134f4b157c7",
   "metadata": {},
   "outputs": [
    {
     "name": "stdout",
     "output_type": "stream",
     "text": [
      "<class 'pandas.core.frame.DataFrame'>\n",
      "RangeIndex: 10000 entries, 0 to 9999\n",
      "Data columns (total 3 columns):\n",
      " #   Column      Non-Null Count  Dtype \n",
      "---  ------      --------------  ----- \n",
      " 0   title       10000 non-null  object\n",
      " 1   movie_type  10000 non-null  object\n",
      " 2   overview    9999 non-null   object\n",
      "dtypes: object(3)\n",
      "memory usage: 234.5+ KB\n"
     ]
    }
   ],
   "source": [
    "df.info()"
   ]
  },
  {
   "cell_type": "code",
   "execution_count": 9,
   "id": "403b84fc-f992-46c4-83a8-4aca6c6a41ef",
   "metadata": {},
   "outputs": [
    {
     "data": {
      "text/plain": [
       "(9999, 3)"
      ]
     },
     "execution_count": 9,
     "metadata": {},
     "output_type": "execute_result"
    }
   ],
   "source": [
    "df = df.drop(6445)\n",
    "df.shape"
   ]
  },
  {
   "cell_type": "markdown",
   "id": "a3889952-4ac0-4514-a20c-ce046750b4e9",
   "metadata": {},
   "source": [
    "## text cleaning:"
   ]
  },
  {
   "cell_type": "code",
   "execution_count": 10,
   "id": "64aeaf61-e4df-49ab-bf8c-af776fc38571",
   "metadata": {},
   "outputs": [],
   "source": [
    "def lower_casing(text_string):\n",
    "    if isinstance(text_string, str):\n",
    "        return text_string.lower()\n",
    "    return text_string"
   ]
  },
  {
   "cell_type": "code",
   "execution_count": 11,
   "id": "affa641b-1da9-4e60-b63e-6e4c4f63dac7",
   "metadata": {},
   "outputs": [],
   "source": [
    "for column in df.columns:\n",
    "    df[column] = df[column].apply(lower_casing)"
   ]
  },
  {
   "cell_type": "code",
   "execution_count": 12,
   "id": "018bf85b-6730-4b8d-bf86-99ca46ffad6b",
   "metadata": {},
   "outputs": [
    {
     "data": {
      "text/html": [
       "<div>\n",
       "<style scoped>\n",
       "    .dataframe tbody tr th:only-of-type {\n",
       "        vertical-align: middle;\n",
       "    }\n",
       "\n",
       "    .dataframe tbody tr th {\n",
       "        vertical-align: top;\n",
       "    }\n",
       "\n",
       "    .dataframe thead th {\n",
       "        text-align: right;\n",
       "    }\n",
       "</style>\n",
       "<table border=\"1\" class=\"dataframe\">\n",
       "  <thead>\n",
       "    <tr style=\"text-align: right;\">\n",
       "      <th></th>\n",
       "      <th>title</th>\n",
       "      <th>movie_type</th>\n",
       "      <th>overview</th>\n",
       "    </tr>\n",
       "  </thead>\n",
       "  <tbody>\n",
       "    <tr>\n",
       "      <th>0</th>\n",
       "      <td>the shawshank redemption</td>\n",
       "      <td>[Drama, Crime]</td>\n",
       "      <td>imprisoned in the 1940s for the double murder ...</td>\n",
       "    </tr>\n",
       "    <tr>\n",
       "      <th>1</th>\n",
       "      <td>the godfather</td>\n",
       "      <td>[Drama, Crime]</td>\n",
       "      <td>spanning the years 1945 to 1955, a chronicle o...</td>\n",
       "    </tr>\n",
       "    <tr>\n",
       "      <th>2</th>\n",
       "      <td>the godfather part ii</td>\n",
       "      <td>[Drama, Crime]</td>\n",
       "      <td>in the continuing saga of the corleone crime f...</td>\n",
       "    </tr>\n",
       "    <tr>\n",
       "      <th>3</th>\n",
       "      <td>schindler's list</td>\n",
       "      <td>[Drama, History, War]</td>\n",
       "      <td>the true story of how businessman oskar schind...</td>\n",
       "    </tr>\n",
       "    <tr>\n",
       "      <th>4</th>\n",
       "      <td>12 angry men</td>\n",
       "      <td>[Drama]</td>\n",
       "      <td>the defense and the prosecution have rested an...</td>\n",
       "    </tr>\n",
       "  </tbody>\n",
       "</table>\n",
       "</div>"
      ],
      "text/plain": [
       "                      title             movie_type  \\\n",
       "0  the shawshank redemption         [Drama, Crime]   \n",
       "1             the godfather         [Drama, Crime]   \n",
       "2     the godfather part ii         [Drama, Crime]   \n",
       "3          schindler's list  [Drama, History, War]   \n",
       "4              12 angry men                [Drama]   \n",
       "\n",
       "                                            overview  \n",
       "0  imprisoned in the 1940s for the double murder ...  \n",
       "1  spanning the years 1945 to 1955, a chronicle o...  \n",
       "2  in the continuing saga of the corleone crime f...  \n",
       "3  the true story of how businessman oskar schind...  \n",
       "4  the defense and the prosecution have rested an...  "
      ]
     },
     "execution_count": 12,
     "metadata": {},
     "output_type": "execute_result"
    }
   ],
   "source": [
    "df.head()"
   ]
  },
  {
   "cell_type": "markdown",
   "id": "c5498ddf-d5e6-497c-8fac-4c27395386a0",
   "metadata": {},
   "source": [
    "## punctuation removal:"
   ]
  },
  {
   "cell_type": "code",
   "execution_count": 13,
   "id": "ca0234b1-8227-45dd-bd60-5fa5039175ba",
   "metadata": {},
   "outputs": [],
   "source": [
    "import string"
   ]
  },
  {
   "cell_type": "code",
   "execution_count": 14,
   "id": "498c7096-2b41-40cf-a372-aa98a3d3c2d9",
   "metadata": {},
   "outputs": [],
   "source": [
    "def remove_puncuation(text_string):\n",
    "    if not isinstance(text_string, str):\n",
    "        return text_string\n",
    "    return text_string.translate(str.maketrans(\"\", \"\", string.punctuation))"
   ]
  },
  {
   "cell_type": "code",
   "execution_count": 15,
   "id": "b303d102-5fd3-4998-a7bd-a86f6a09fa60",
   "metadata": {},
   "outputs": [],
   "source": [
    "for column in df.columns:\n",
    "    df[column] = df[column].apply(lower_casing)"
   ]
  },
  {
   "cell_type": "code",
   "execution_count": 16,
   "id": "eb7566bf-9f5e-4c7b-aa77-1795c449b1c4",
   "metadata": {},
   "outputs": [
    {
     "data": {
      "text/html": [
       "<div>\n",
       "<style scoped>\n",
       "    .dataframe tbody tr th:only-of-type {\n",
       "        vertical-align: middle;\n",
       "    }\n",
       "\n",
       "    .dataframe tbody tr th {\n",
       "        vertical-align: top;\n",
       "    }\n",
       "\n",
       "    .dataframe thead th {\n",
       "        text-align: right;\n",
       "    }\n",
       "</style>\n",
       "<table border=\"1\" class=\"dataframe\">\n",
       "  <thead>\n",
       "    <tr style=\"text-align: right;\">\n",
       "      <th></th>\n",
       "      <th>title</th>\n",
       "      <th>movie_type</th>\n",
       "      <th>overview</th>\n",
       "    </tr>\n",
       "  </thead>\n",
       "  <tbody>\n",
       "    <tr>\n",
       "      <th>0</th>\n",
       "      <td>the shawshank redemption</td>\n",
       "      <td>[Drama, Crime]</td>\n",
       "      <td>imprisoned in the 1940s for the double murder ...</td>\n",
       "    </tr>\n",
       "    <tr>\n",
       "      <th>1</th>\n",
       "      <td>the godfather</td>\n",
       "      <td>[Drama, Crime]</td>\n",
       "      <td>spanning the years 1945 to 1955, a chronicle o...</td>\n",
       "    </tr>\n",
       "    <tr>\n",
       "      <th>2</th>\n",
       "      <td>the godfather part ii</td>\n",
       "      <td>[Drama, Crime]</td>\n",
       "      <td>in the continuing saga of the corleone crime f...</td>\n",
       "    </tr>\n",
       "    <tr>\n",
       "      <th>3</th>\n",
       "      <td>schindler's list</td>\n",
       "      <td>[Drama, History, War]</td>\n",
       "      <td>the true story of how businessman oskar schind...</td>\n",
       "    </tr>\n",
       "    <tr>\n",
       "      <th>4</th>\n",
       "      <td>12 angry men</td>\n",
       "      <td>[Drama]</td>\n",
       "      <td>the defense and the prosecution have rested an...</td>\n",
       "    </tr>\n",
       "  </tbody>\n",
       "</table>\n",
       "</div>"
      ],
      "text/plain": [
       "                      title             movie_type  \\\n",
       "0  the shawshank redemption         [Drama, Crime]   \n",
       "1             the godfather         [Drama, Crime]   \n",
       "2     the godfather part ii         [Drama, Crime]   \n",
       "3          schindler's list  [Drama, History, War]   \n",
       "4              12 angry men                [Drama]   \n",
       "\n",
       "                                            overview  \n",
       "0  imprisoned in the 1940s for the double murder ...  \n",
       "1  spanning the years 1945 to 1955, a chronicle o...  \n",
       "2  in the continuing saga of the corleone crime f...  \n",
       "3  the true story of how businessman oskar schind...  \n",
       "4  the defense and the prosecution have rested an...  "
      ]
     },
     "execution_count": 16,
     "metadata": {},
     "output_type": "execute_result"
    }
   ],
   "source": [
    "df.head()"
   ]
  },
  {
   "cell_type": "markdown",
   "id": "f5e8ab41-5f2e-40bc-aab1-f46465a02b0e",
   "metadata": {},
   "source": [
    "## Tokenization:"
   ]
  },
  {
   "cell_type": "code",
   "execution_count": 17,
   "id": "5a1c8701-51c2-4a0f-b4b0-a80916b7e35a",
   "metadata": {},
   "outputs": [],
   "source": [
    "import spacy\n",
    "nlp = spacy.load(\"en_core_web_sm\")"
   ]
  },
  {
   "cell_type": "code",
   "execution_count": 18,
   "id": "edd8014f-78d8-4750-b01c-8659888ef8fc",
   "metadata": {},
   "outputs": [],
   "source": [
    "def tokenization(text_series):\n",
    "    return [[token.text for token in nlp(doc)] for doc in text_series]"
   ]
  },
  {
   "cell_type": "code",
   "execution_count": 19,
   "id": "8144a7af-d75b-42d3-b0c4-c18429ea6261",
   "metadata": {},
   "outputs": [
    {
     "name": "stderr",
     "output_type": "stream",
     "text": [
      "100%|\u001b[32m███████████████████████████████████████████████████████████████████████████████████████████████████████████████████████████████████████\u001b[0m| 3/3 [02:41<00:00, 53.77s/it]\u001b[0m\n"
     ]
    }
   ],
   "source": [
    "for column in tqdm(df.columns, colour=\"green\"):\n",
    "    if column != \"movie_type\":\n",
    "        df[column] = tokenization(df[column])"
   ]
  },
  {
   "cell_type": "code",
   "execution_count": 20,
   "id": "b6eef1f1-aa51-4878-991a-ffed4c5306a2",
   "metadata": {},
   "outputs": [
    {
     "data": {
      "text/html": [
       "<div>\n",
       "<style scoped>\n",
       "    .dataframe tbody tr th:only-of-type {\n",
       "        vertical-align: middle;\n",
       "    }\n",
       "\n",
       "    .dataframe tbody tr th {\n",
       "        vertical-align: top;\n",
       "    }\n",
       "\n",
       "    .dataframe thead th {\n",
       "        text-align: right;\n",
       "    }\n",
       "</style>\n",
       "<table border=\"1\" class=\"dataframe\">\n",
       "  <thead>\n",
       "    <tr style=\"text-align: right;\">\n",
       "      <th></th>\n",
       "      <th>title</th>\n",
       "      <th>movie_type</th>\n",
       "      <th>overview</th>\n",
       "    </tr>\n",
       "  </thead>\n",
       "  <tbody>\n",
       "    <tr>\n",
       "      <th>0</th>\n",
       "      <td>[the, shawshank, redemption]</td>\n",
       "      <td>[Drama, Crime]</td>\n",
       "      <td>[imprisoned, in, the, 1940s, for, the, double,...</td>\n",
       "    </tr>\n",
       "    <tr>\n",
       "      <th>1</th>\n",
       "      <td>[the, godfather]</td>\n",
       "      <td>[Drama, Crime]</td>\n",
       "      <td>[spanning, the, years, 1945, to, 1955, ,, a, c...</td>\n",
       "    </tr>\n",
       "    <tr>\n",
       "      <th>2</th>\n",
       "      <td>[the, godfather, part, ii]</td>\n",
       "      <td>[Drama, Crime]</td>\n",
       "      <td>[in, the, continuing, saga, of, the, corleone,...</td>\n",
       "    </tr>\n",
       "    <tr>\n",
       "      <th>3</th>\n",
       "      <td>[schindler, 's, list]</td>\n",
       "      <td>[Drama, History, War]</td>\n",
       "      <td>[the, true, story, of, how, businessman, oskar...</td>\n",
       "    </tr>\n",
       "    <tr>\n",
       "      <th>4</th>\n",
       "      <td>[12, angry, men]</td>\n",
       "      <td>[Drama]</td>\n",
       "      <td>[the, defense, and, the, prosecution, have, re...</td>\n",
       "    </tr>\n",
       "  </tbody>\n",
       "</table>\n",
       "</div>"
      ],
      "text/plain": [
       "                          title             movie_type  \\\n",
       "0  [the, shawshank, redemption]         [Drama, Crime]   \n",
       "1              [the, godfather]         [Drama, Crime]   \n",
       "2    [the, godfather, part, ii]         [Drama, Crime]   \n",
       "3         [schindler, 's, list]  [Drama, History, War]   \n",
       "4              [12, angry, men]                [Drama]   \n",
       "\n",
       "                                            overview  \n",
       "0  [imprisoned, in, the, 1940s, for, the, double,...  \n",
       "1  [spanning, the, years, 1945, to, 1955, ,, a, c...  \n",
       "2  [in, the, continuing, saga, of, the, corleone,...  \n",
       "3  [the, true, story, of, how, businessman, oskar...  \n",
       "4  [the, defense, and, the, prosecution, have, re...  "
      ]
     },
     "execution_count": 20,
     "metadata": {},
     "output_type": "execute_result"
    }
   ],
   "source": [
    "df.head()"
   ]
  },
  {
   "cell_type": "markdown",
   "id": "0b89ba09-1052-4be8-aaec-a92554d4a8c0",
   "metadata": {},
   "source": [
    "## stopword removal:"
   ]
  },
  {
   "cell_type": "code",
   "execution_count": 21,
   "id": "0692d418-59ed-4fc1-8618-8601063d3f09",
   "metadata": {},
   "outputs": [],
   "source": [
    "def stop_words_removal(token_lists):\n",
    "    return [[token for token in list_n if token not in nlp.Defaults.stop_words] for list_n in token_lists]"
   ]
  },
  {
   "cell_type": "code",
   "execution_count": 22,
   "id": "8be8f31a-b70a-4da1-9ede-abf5b859634e",
   "metadata": {},
   "outputs": [
    {
     "name": "stderr",
     "output_type": "stream",
     "text": [
      "100%|\u001b[32m███████████████████████████████████████████████████████████████████████████████████████████████████████████████████████████████████████\u001b[0m| 3/3 [00:00<00:00, 13.53it/s]\u001b[0m\n"
     ]
    }
   ],
   "source": [
    "for column in tqdm(df.columns, colour=\"green\"):\n",
    "    if column != \"movie_type\":\n",
    "        df[column] = stop_words_removal(df[column])"
   ]
  },
  {
   "cell_type": "code",
   "execution_count": 2,
   "id": "18629883-4a5e-4895-b675-f2e253958187",
   "metadata": {},
   "outputs": [
    {
     "ename": "NameError",
     "evalue": "name 'df' is not defined",
     "output_type": "error",
     "traceback": [
      "\u001b[0;31m---------------------------------------------------------------------------\u001b[0m",
      "\u001b[0;31mNameError\u001b[0m                                 Traceback (most recent call last)",
      "Cell \u001b[0;32mIn[2], line 1\u001b[0m\n\u001b[0;32m----> 1\u001b[0m \u001b[43mdf\u001b[49m\u001b[38;5;241m.\u001b[39mhead()\n",
      "\u001b[0;31mNameError\u001b[0m: name 'df' is not defined"
     ]
    }
   ],
   "source": [
    "df.head()"
   ]
  },
  {
   "cell_type": "markdown",
   "id": "9506f9f3-9666-4f88-a430-fc3f255de8df",
   "metadata": {},
   "source": [
    "## limmitization(spacy)(stemming is same as limmitization but has very low accuracy)"
   ]
  },
  {
   "cell_type": "code",
   "execution_count": 30,
   "id": "0fe3dfe8-4edb-457c-bf05-b8c54c49e4e8",
   "metadata": {},
   "outputs": [],
   "source": [
    "def lemmatization(token_lists):\n",
    "    return [[token.lemma_ for token in nlp(\" \".join(tokens))] for tokens in token_lists]"
   ]
  },
  {
   "cell_type": "code",
   "execution_count": 31,
   "id": "320ec0a6-e8ec-486a-a4c3-5707ba22cdb0",
   "metadata": {},
   "outputs": [
    {
     "name": "stderr",
     "output_type": "stream",
     "text": [
      "100%|\u001b[32m███████████████████████████████████████████████████████████████████████████████████████████████████████████████████████████████████████\u001b[0m| 3/3 [02:07<00:00, 42.44s/it]\u001b[0m\n"
     ]
    }
   ],
   "source": [
    "for column in tqdm(df.columns, colour=\"green\"):\n",
    "    if column != \"movie_type\":\n",
    "        df[column] = lemmatization(df[column])"
   ]
  },
  {
   "cell_type": "code",
   "execution_count": 32,
   "id": "29fa92c1-a51d-4cdd-817d-147839bad908",
   "metadata": {},
   "outputs": [
    {
     "data": {
      "text/html": [
       "<div>\n",
       "<style scoped>\n",
       "    .dataframe tbody tr th:only-of-type {\n",
       "        vertical-align: middle;\n",
       "    }\n",
       "\n",
       "    .dataframe tbody tr th {\n",
       "        vertical-align: top;\n",
       "    }\n",
       "\n",
       "    .dataframe thead th {\n",
       "        text-align: right;\n",
       "    }\n",
       "</style>\n",
       "<table border=\"1\" class=\"dataframe\">\n",
       "  <thead>\n",
       "    <tr style=\"text-align: right;\">\n",
       "      <th></th>\n",
       "      <th>title</th>\n",
       "      <th>movie_type</th>\n",
       "      <th>overview</th>\n",
       "    </tr>\n",
       "  </thead>\n",
       "  <tbody>\n",
       "    <tr>\n",
       "      <th>0</th>\n",
       "      <td>[shawshank, redemption]</td>\n",
       "      <td>[Drama, Crime]</td>\n",
       "      <td>[imprison, 1940, double, murder, wife, lover, ...</td>\n",
       "    </tr>\n",
       "    <tr>\n",
       "      <th>1</th>\n",
       "      <td>[godfather]</td>\n",
       "      <td>[Drama, Crime]</td>\n",
       "      <td>[span, year, 1945, 1955, ,, chronicle, fiction...</td>\n",
       "    </tr>\n",
       "    <tr>\n",
       "      <th>2</th>\n",
       "      <td>[godfather, ii]</td>\n",
       "      <td>[Drama, Crime]</td>\n",
       "      <td>[continue, saga, corleone, crime, family, ,, y...</td>\n",
       "    </tr>\n",
       "    <tr>\n",
       "      <th>3</th>\n",
       "      <td>[schindler, list]</td>\n",
       "      <td>[Drama, History, War]</td>\n",
       "      <td>[true, story, businessman, oskar, schindler, s...</td>\n",
       "    </tr>\n",
       "    <tr>\n",
       "      <th>4</th>\n",
       "      <td>[12, angry, man]</td>\n",
       "      <td>[Drama]</td>\n",
       "      <td>[defense, prosecution, rest, jury, filing, jur...</td>\n",
       "    </tr>\n",
       "  </tbody>\n",
       "</table>\n",
       "</div>"
      ],
      "text/plain": [
       "                     title             movie_type  \\\n",
       "0  [shawshank, redemption]         [Drama, Crime]   \n",
       "1              [godfather]         [Drama, Crime]   \n",
       "2          [godfather, ii]         [Drama, Crime]   \n",
       "3        [schindler, list]  [Drama, History, War]   \n",
       "4         [12, angry, man]                [Drama]   \n",
       "\n",
       "                                            overview  \n",
       "0  [imprison, 1940, double, murder, wife, lover, ...  \n",
       "1  [span, year, 1945, 1955, ,, chronicle, fiction...  \n",
       "2  [continue, saga, corleone, crime, family, ,, y...  \n",
       "3  [true, story, businessman, oskar, schindler, s...  \n",
       "4  [defense, prosecution, rest, jury, filing, jur...  "
      ]
     },
     "execution_count": 32,
     "metadata": {},
     "output_type": "execute_result"
    }
   ],
   "source": [
    "df.head()"
   ]
  }
 ],
 "metadata": {
  "kernelspec": {
   "display_name": "Python 3 (ipykernel)",
   "language": "python",
   "name": "python3"
  },
  "language_info": {
   "codemirror_mode": {
    "name": "ipython",
    "version": 3
   },
   "file_extension": ".py",
   "mimetype": "text/x-python",
   "name": "python",
   "nbconvert_exporter": "python",
   "pygments_lexer": "ipython3",
   "version": "3.10.16"
  },
  "widgets": {
   "application/vnd.jupyter.widget-state+json": {
    "state": {},
    "version_major": 2,
    "version_minor": 0
   }
  }
 },
 "nbformat": 4,
 "nbformat_minor": 5
}
