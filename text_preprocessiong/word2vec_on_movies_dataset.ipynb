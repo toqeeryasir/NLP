{
 "cells": [
  {
   "cell_type": "code",
   "execution_count": 1,
   "id": "4cbc7f1d-8635-4cf4-8eb2-a2b1171cb7e7",
   "metadata": {},
   "outputs": [],
   "source": [
    "import pandas as pd\n",
    "from tqdm.auto import tqdm\n",
    "import spacy"
   ]
  },
  {
   "cell_type": "code",
   "execution_count": 2,
   "id": "c9aa490c-421b-4511-9c20-c5cbf19aec9c",
   "metadata": {},
   "outputs": [],
   "source": [
    "df = pd.read_csv(\"movies_data.csv\", usecols=[\"title\", \"overview\", \"movie_type\"])"
   ]
  },
  {
   "cell_type": "code",
   "execution_count": 3,
   "id": "84b5f0fc-fa30-4a6d-ade6-2147a9258bdb",
   "metadata": {},
   "outputs": [
    {
     "data": {
      "text/plain": [
       "title         0\n",
       "movie_type    0\n",
       "overview      1\n",
       "dtype: int64"
      ]
     },
     "execution_count": 3,
     "metadata": {},
     "output_type": "execute_result"
    }
   ],
   "source": [
    "df.isnull().sum()"
   ]
  },
  {
   "cell_type": "code",
   "execution_count": 4,
   "id": "892e5135-e63c-4194-ad4e-4a93c413835f",
   "metadata": {},
   "outputs": [
    {
     "data": {
      "text/html": [
       "<div>\n",
       "<style scoped>\n",
       "    .dataframe tbody tr th:only-of-type {\n",
       "        vertical-align: middle;\n",
       "    }\n",
       "\n",
       "    .dataframe tbody tr th {\n",
       "        vertical-align: top;\n",
       "    }\n",
       "\n",
       "    .dataframe thead th {\n",
       "        text-align: right;\n",
       "    }\n",
       "</style>\n",
       "<table border=\"1\" class=\"dataframe\">\n",
       "  <thead>\n",
       "    <tr style=\"text-align: right;\">\n",
       "      <th></th>\n",
       "      <th>title</th>\n",
       "      <th>movie_type</th>\n",
       "      <th>overview</th>\n",
       "    </tr>\n",
       "  </thead>\n",
       "  <tbody>\n",
       "    <tr>\n",
       "      <th>6445</th>\n",
       "      <td>Ret</td>\n",
       "      <td>['Drama', 'History']</td>\n",
       "      <td>NaN</td>\n",
       "    </tr>\n",
       "  </tbody>\n",
       "</table>\n",
       "</div>"
      ],
      "text/plain": [
       "     title            movie_type overview\n",
       "6445   Ret  ['Drama', 'History']      NaN"
      ]
     },
     "execution_count": 4,
     "metadata": {},
     "output_type": "execute_result"
    }
   ],
   "source": [
    "df[df['overview'].isnull() == True]"
   ]
  },
  {
   "cell_type": "code",
   "execution_count": 5,
   "id": "49ec8d3d-70f6-47be-8f3c-5eb6d76813bc",
   "metadata": {},
   "outputs": [
    {
     "data": {
      "text/plain": [
       "(9999, 3)"
      ]
     },
     "execution_count": 5,
     "metadata": {},
     "output_type": "execute_result"
    }
   ],
   "source": [
    "df = df.drop(6445)\n",
    "df.shape"
   ]
  },
  {
   "cell_type": "code",
   "execution_count": 6,
   "id": "c9d0bb99-566f-4a21-b740-bc8f488d2abe",
   "metadata": {},
   "outputs": [],
   "source": [
    "nlp = spacy.load(\"en_core_web_sm\", disable=[\"parser\", \"ner\"])"
   ]
  },
  {
   "cell_type": "code",
   "execution_count": 7,
   "id": "f95e6c2a-3453-4389-9c0f-e684d9e75018",
   "metadata": {},
   "outputs": [],
   "source": [
    "def preprocessing(text):\n",
    "    return [[token.lemma_ for token in doc if not token.is_punct and not token.is_stop] for doc in tqdm(nlp.pipe(text.astype(str).str.lower().str.strip().tolist(), batch_size=1000), total= len(text))]"
   ]
  },
  {
   "cell_type": "code",
   "execution_count": 8,
   "id": "b38f450c-2c71-41de-bad5-4f27a8201702",
   "metadata": {},
   "outputs": [
    {
     "data": {
      "application/vnd.jupyter.widget-view+json": {
       "model_id": "8bafe6f4439644949f8af86a12245615",
       "version_major": 2,
       "version_minor": 0
      },
      "text/plain": [
       "  0%|          | 0/9999 [00:00<?, ?it/s]"
      ]
     },
     "metadata": {},
     "output_type": "display_data"
    },
    {
     "data": {
      "application/vnd.jupyter.widget-view+json": {
       "model_id": "02291367cdad4bdaaf482bc2bd7c7ef5",
       "version_major": 2,
       "version_minor": 0
      },
      "text/plain": [
       "  0%|          | 0/9999 [00:00<?, ?it/s]"
      ]
     },
     "metadata": {},
     "output_type": "display_data"
    }
   ],
   "source": [
    "df['title'] = preprocessing(df['title'])\n",
    "df['overview'] = preprocessing(df['overview'])"
   ]
  },
  {
   "cell_type": "code",
   "execution_count": 9,
   "id": "7a4cbca0-0e51-41d1-b4b4-01046aa05bb2",
   "metadata": {},
   "outputs": [
    {
     "data": {
      "text/html": [
       "<div>\n",
       "<style scoped>\n",
       "    .dataframe tbody tr th:only-of-type {\n",
       "        vertical-align: middle;\n",
       "    }\n",
       "\n",
       "    .dataframe tbody tr th {\n",
       "        vertical-align: top;\n",
       "    }\n",
       "\n",
       "    .dataframe thead th {\n",
       "        text-align: right;\n",
       "    }\n",
       "</style>\n",
       "<table border=\"1\" class=\"dataframe\">\n",
       "  <thead>\n",
       "    <tr style=\"text-align: right;\">\n",
       "      <th></th>\n",
       "      <th>title</th>\n",
       "      <th>movie_type</th>\n",
       "      <th>overview</th>\n",
       "    </tr>\n",
       "  </thead>\n",
       "  <tbody>\n",
       "    <tr>\n",
       "      <th>0</th>\n",
       "      <td>[shawshank, redemption]</td>\n",
       "      <td>['Drama', 'Crime']</td>\n",
       "      <td>[imprison, 1940, double, murder, wife, lover, ...</td>\n",
       "    </tr>\n",
       "    <tr>\n",
       "      <th>1</th>\n",
       "      <td>[godfather]</td>\n",
       "      <td>['Drama', 'Crime']</td>\n",
       "      <td>[span, year, 1945, 1955, chronicle, fictional,...</td>\n",
       "    </tr>\n",
       "    <tr>\n",
       "      <th>2</th>\n",
       "      <td>[godfather, ii]</td>\n",
       "      <td>['Drama', 'Crime']</td>\n",
       "      <td>[continue, saga, corleone, crime, family, youn...</td>\n",
       "    </tr>\n",
       "    <tr>\n",
       "      <th>3</th>\n",
       "      <td>[schindler, list]</td>\n",
       "      <td>['Drama', 'History', 'War']</td>\n",
       "      <td>[true, story, businessman, oskar, schindler, s...</td>\n",
       "    </tr>\n",
       "    <tr>\n",
       "      <th>4</th>\n",
       "      <td>[12, angry, man]</td>\n",
       "      <td>['Drama']</td>\n",
       "      <td>[defense, prosecution, rest, jury, file, jury,...</td>\n",
       "    </tr>\n",
       "  </tbody>\n",
       "</table>\n",
       "</div>"
      ],
      "text/plain": [
       "                     title                   movie_type  \\\n",
       "0  [shawshank, redemption]           ['Drama', 'Crime']   \n",
       "1              [godfather]           ['Drama', 'Crime']   \n",
       "2          [godfather, ii]           ['Drama', 'Crime']   \n",
       "3        [schindler, list]  ['Drama', 'History', 'War']   \n",
       "4         [12, angry, man]                    ['Drama']   \n",
       "\n",
       "                                            overview  \n",
       "0  [imprison, 1940, double, murder, wife, lover, ...  \n",
       "1  [span, year, 1945, 1955, chronicle, fictional,...  \n",
       "2  [continue, saga, corleone, crime, family, youn...  \n",
       "3  [true, story, businessman, oskar, schindler, s...  \n",
       "4  [defense, prosecution, rest, jury, file, jury,...  "
      ]
     },
     "execution_count": 9,
     "metadata": {},
     "output_type": "execute_result"
    }
   ],
   "source": [
    "df.head()"
   ]
  },
  {
   "cell_type": "code",
   "execution_count": 10,
   "id": "d417f0c6-d6b1-44a6-9534-e11d97e28146",
   "metadata": {},
   "outputs": [
    {
     "data": {
      "text/plain": [
       "19998"
      ]
     },
     "execution_count": 10,
     "metadata": {},
     "output_type": "execute_result"
    }
   ],
   "source": [
    "total_sentences = df['title'].tolist() + df['overview'].tolist()\n",
    "len(total_sentences)"
   ]
  },
  {
   "cell_type": "code",
   "execution_count": 11,
   "id": "a8ffafbf-113c-42e4-a6af-2ed6ff6d87ea",
   "metadata": {},
   "outputs": [],
   "source": [
    "from gensim.models import Word2Vec\n",
    "\n",
    "model = Word2Vec(sentences=total_sentences, vector_size=100, window=5, min_count=1, workers=4)"
   ]
  },
  {
   "cell_type": "code",
   "execution_count": 12,
   "id": "3d784ed9-558c-4093-a9bb-f0276743a833",
   "metadata": {},
   "outputs": [
    {
     "name": "stdout",
     "output_type": "stream",
     "text": [
      "\n",
      "Word Similarity Test:\n"
     ]
    },
    {
     "data": {
      "text/plain": [
       "[('italian', 0.9997267723083496), ('local', 0.9996961951255798)]"
      ]
     },
     "execution_count": 12,
     "metadata": {},
     "output_type": "execute_result"
    }
   ],
   "source": [
    "print(\"\\nWord Similarity Test:\")\n",
    "model.wv.most_similar('american', topn=2)"
   ]
  }
 ],
 "metadata": {
  "kernelspec": {
   "display_name": "Python 3 (ipykernel)",
   "language": "python",
   "name": "python3"
  },
  "language_info": {
   "codemirror_mode": {
    "name": "ipython",
    "version": 3
   },
   "file_extension": ".py",
   "mimetype": "text/x-python",
   "name": "python",
   "nbconvert_exporter": "python",
   "pygments_lexer": "ipython3",
   "version": "3.10.16"
  },
  "widgets": {
   "application/vnd.jupyter.widget-state+json": {
    "state": {
     "02291367cdad4bdaaf482bc2bd7c7ef5": {
      "model_module": "@jupyter-widgets/controls",
      "model_module_version": "2.0.0",
      "model_name": "HBoxModel",
      "state": {
       "children": [
        "IPY_MODEL_c56d033771714efd89fa3ee3849a7c45",
        "IPY_MODEL_6579eb82f9604ee3b02b7c87adac0e90",
        "IPY_MODEL_c0698725000e4dc2b0898de78ead496f"
       ],
       "layout": "IPY_MODEL_ab0e8ca9e00445708bdfcb5b07d42a6a"
      }
     },
     "0b1e610547f045b696432d801196595e": {
      "model_module": "@jupyter-widgets/controls",
      "model_module_version": "2.0.0",
      "model_name": "HTMLStyleModel",
      "state": {
       "description_width": "",
       "font_size": null,
       "text_color": null
      }
     },
     "322484ff44a8470d9f982fe911ffddbb": {
      "model_module": "@jupyter-widgets/controls",
      "model_module_version": "2.0.0",
      "model_name": "HTMLStyleModel",
      "state": {
       "description_width": "",
       "font_size": null,
       "text_color": null
      }
     },
     "346e6b06c62446d19f47e90ae0992d91": {
      "model_module": "@jupyter-widgets/controls",
      "model_module_version": "2.0.0",
      "model_name": "ProgressStyleModel",
      "state": {
       "description_width": ""
      }
     },
     "36c5b4914a5544758197c6783146df6a": {
      "model_module": "@jupyter-widgets/base",
      "model_module_version": "2.0.0",
      "model_name": "LayoutModel",
      "state": {}
     },
     "6579eb82f9604ee3b02b7c87adac0e90": {
      "model_module": "@jupyter-widgets/controls",
      "model_module_version": "2.0.0",
      "model_name": "FloatProgressModel",
      "state": {
       "bar_style": "success",
       "layout": "IPY_MODEL_e5e524b3f3a842659c1314a7f30f2694",
       "max": 9999,
       "style": "IPY_MODEL_86da970bfe4f4382b5da55226800ad8c",
       "value": 9999
      }
     },
     "69368d2b14054e23bf0ea3f58b9be6c5": {
      "model_module": "@jupyter-widgets/base",
      "model_module_version": "2.0.0",
      "model_name": "LayoutModel",
      "state": {}
     },
     "6efe683586b14853b068793e445ef2a4": {
      "model_module": "@jupyter-widgets/base",
      "model_module_version": "2.0.0",
      "model_name": "LayoutModel",
      "state": {}
     },
     "6f435e2feb93470d8ded53ff920b3c5a": {
      "model_module": "@jupyter-widgets/controls",
      "model_module_version": "2.0.0",
      "model_name": "FloatProgressModel",
      "state": {
       "bar_style": "success",
       "layout": "IPY_MODEL_ae8ce1bd0df94f3e95a38673dad0caaa",
       "max": 9999,
       "style": "IPY_MODEL_346e6b06c62446d19f47e90ae0992d91",
       "value": 9999
      }
     },
     "7090a7050b77462c9c55f223da2a5b70": {
      "model_module": "@jupyter-widgets/controls",
      "model_module_version": "2.0.0",
      "model_name": "HTMLModel",
      "state": {
       "layout": "IPY_MODEL_36c5b4914a5544758197c6783146df6a",
       "style": "IPY_MODEL_322484ff44a8470d9f982fe911ffddbb",
       "value": " 9999/9999 [00:03&lt;00:00, 2662.96it/s]"
      }
     },
     "86da970bfe4f4382b5da55226800ad8c": {
      "model_module": "@jupyter-widgets/controls",
      "model_module_version": "2.0.0",
      "model_name": "ProgressStyleModel",
      "state": {
       "description_width": ""
      }
     },
     "8bafe6f4439644949f8af86a12245615": {
      "model_module": "@jupyter-widgets/controls",
      "model_module_version": "2.0.0",
      "model_name": "HBoxModel",
      "state": {
       "children": [
        "IPY_MODEL_e947d7914a6445758cca74f10bc35c52",
        "IPY_MODEL_6f435e2feb93470d8ded53ff920b3c5a",
        "IPY_MODEL_7090a7050b77462c9c55f223da2a5b70"
       ],
       "layout": "IPY_MODEL_929e92ee4b584668b3e0a243141e110d"
      }
     },
     "929e92ee4b584668b3e0a243141e110d": {
      "model_module": "@jupyter-widgets/base",
      "model_module_version": "2.0.0",
      "model_name": "LayoutModel",
      "state": {}
     },
     "aa7d3209601d43a9a6bc424d29982c46": {
      "model_module": "@jupyter-widgets/controls",
      "model_module_version": "2.0.0",
      "model_name": "HTMLStyleModel",
      "state": {
       "description_width": "",
       "font_size": null,
       "text_color": null
      }
     },
     "ab0e8ca9e00445708bdfcb5b07d42a6a": {
      "model_module": "@jupyter-widgets/base",
      "model_module_version": "2.0.0",
      "model_name": "LayoutModel",
      "state": {}
     },
     "ae8ce1bd0df94f3e95a38673dad0caaa": {
      "model_module": "@jupyter-widgets/base",
      "model_module_version": "2.0.0",
      "model_name": "LayoutModel",
      "state": {}
     },
     "befe32935d124d468063ce3aeda50ba8": {
      "model_module": "@jupyter-widgets/base",
      "model_module_version": "2.0.0",
      "model_name": "LayoutModel",
      "state": {}
     },
     "c0698725000e4dc2b0898de78ead496f": {
      "model_module": "@jupyter-widgets/controls",
      "model_module_version": "2.0.0",
      "model_name": "HTMLModel",
      "state": {
       "layout": "IPY_MODEL_6efe683586b14853b068793e445ef2a4",
       "style": "IPY_MODEL_e51adcc4607d4508bb48884a2e6dbe1b",
       "value": " 9999/9999 [00:32&lt;00:00, 712.07it/s]"
      }
     },
     "c56d033771714efd89fa3ee3849a7c45": {
      "model_module": "@jupyter-widgets/controls",
      "model_module_version": "2.0.0",
      "model_name": "HTMLModel",
      "state": {
       "layout": "IPY_MODEL_69368d2b14054e23bf0ea3f58b9be6c5",
       "style": "IPY_MODEL_0b1e610547f045b696432d801196595e",
       "value": "100%"
      }
     },
     "e51adcc4607d4508bb48884a2e6dbe1b": {
      "model_module": "@jupyter-widgets/controls",
      "model_module_version": "2.0.0",
      "model_name": "HTMLStyleModel",
      "state": {
       "description_width": "",
       "font_size": null,
       "text_color": null
      }
     },
     "e5e524b3f3a842659c1314a7f30f2694": {
      "model_module": "@jupyter-widgets/base",
      "model_module_version": "2.0.0",
      "model_name": "LayoutModel",
      "state": {}
     },
     "e947d7914a6445758cca74f10bc35c52": {
      "model_module": "@jupyter-widgets/controls",
      "model_module_version": "2.0.0",
      "model_name": "HTMLModel",
      "state": {
       "layout": "IPY_MODEL_befe32935d124d468063ce3aeda50ba8",
       "style": "IPY_MODEL_aa7d3209601d43a9a6bc424d29982c46",
       "value": "100%"
      }
     }
    },
    "version_major": 2,
    "version_minor": 0
   }
  }
 },
 "nbformat": 4,
 "nbformat_minor": 5
}
