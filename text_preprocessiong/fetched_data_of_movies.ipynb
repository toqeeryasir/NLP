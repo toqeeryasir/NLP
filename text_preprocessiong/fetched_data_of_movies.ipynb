{
 "cells": [
  {
   "cell_type": "code",
   "execution_count": 1,
   "id": "1d740c76-dd27-42f8-828c-17f6a163d236",
   "metadata": {},
   "outputs": [],
   "source": [
    "# https://api.themoviedb.org/3/movie/top_rated?api_key=8265bd1679663a7ea12ac168da84d2e8&language=en-US&page=1"
   ]
  },
  {
   "cell_type": "code",
   "execution_count": 2,
   "id": "8d919f14-b3bc-4e4b-aa05-59da62c33da5",
   "metadata": {},
   "outputs": [
    {
     "data": {
      "text/plain": [
       "{'genre_id': [{'id': 28, 'name': 'Action'},\n",
       "  {'id': 12, 'name': 'Adventure'},\n",
       "  {'id': 16, 'name': 'Animation'},\n",
       "  {'id': 35, 'name': 'Comedy'},\n",
       "  {'id': 80, 'name': 'Crime'},\n",
       "  {'id': 99, 'name': 'Documentary'},\n",
       "  {'id': 18, 'name': 'Drama'},\n",
       "  {'id': 10751, 'name': 'Family'},\n",
       "  {'id': 14, 'name': 'Fantasy'},\n",
       "  {'id': 36, 'name': 'History'},\n",
       "  {'id': 27, 'name': 'Horror'},\n",
       "  {'id': 10402, 'name': 'Music'},\n",
       "  {'id': 9648, 'name': 'Mystery'},\n",
       "  {'id': 10749, 'name': 'Romance'},\n",
       "  {'id': 878, 'name': 'Science Fiction'},\n",
       "  {'id': 10770, 'name': 'TV Movie'},\n",
       "  {'id': 53, 'name': 'Thriller'},\n",
       "  {'id': 10752, 'name': 'War'},\n",
       "  {'id': 37, 'name': 'Western'}]}"
      ]
     },
     "execution_count": 2,
     "metadata": {},
     "output_type": "execute_result"
    }
   ],
   "source": [
    "{\"genre_id\":[{\"id\":28,\"name\":\"Action\"},{\"id\":12,\"name\":\"Adventure\"},{\"id\":16,\"name\":\"Animation\"},{\"id\":35,\"name\":\"Comedy\"},{\"id\":80,\"name\":\"Crime\"},{\"id\":99,\"name\":\"Documentary\"},{\"id\":18,\"name\":\"Drama\"},{\"id\":10751,\"name\":\"Family\"},{\"id\":14,\"name\":\"Fantasy\"},{\"id\":36,\"name\":\"History\"},{\"id\":27,\"name\":\"Horror\"},{\"id\":10402,\"name\":\"Music\"},{\"id\":9648,\"name\":\"Mystery\"},{\"id\":10749,\"name\":\"Romance\"},{\"id\":878,\"name\":\"Science Fiction\"},{\"id\":10770,\"name\":\"TV Movie\"},{\"id\":53,\"name\":\"Thriller\"},{\"id\":10752,\"name\":\"War\"},{\"id\":37,\"name\":\"Western\"}]}"
   ]
  },
  {
   "cell_type": "code",
   "execution_count": 3,
   "id": "2529b137-b82c-4f8d-a0ae-8d176ff4345b",
   "metadata": {},
   "outputs": [],
   "source": [
    "import requests\n",
    "from bs4 import BeautifulSoup\n",
    "import pandas as pd\n",
    "from tqdm import tqdm  # for progress bar\n",
    "import time\n",
    "import random"
   ]
  },
  {
   "cell_type": "code",
   "execution_count": null,
   "id": "c47dc198-899f-4e0d-95d6-8e45f606abb6",
   "metadata": {},
   "outputs": [],
   "source": []
  },
  {
   "cell_type": "code",
   "execution_count": 4,
   "id": "a92e440c-56c6-4f6f-be69-998c569d4a4c",
   "metadata": {},
   "outputs": [],
   "source": [
    "def fetch_movies_pages(api_url, page=1):\n",
    "    try:\n",
    "        response = requests.get(api_url, params={\"page\": page})\n",
    "        response.raise_for_status()  # Check for errors\n",
    "        data = response.json()\n",
    "        return data[\"results\"]  # List of movies\n",
    "    except Exception as e:\n",
    "        print(f\"Error fetching page {page}: {e}\")\n",
    "        return []"
   ]
  },
  {
   "cell_type": "code",
   "execution_count": 5,
   "id": "09335e0a-03e4-46a9-beb9-1fa30730f546",
   "metadata": {},
   "outputs": [],
   "source": [
    "genre_map = {\n",
    "    28: \"Action\",\n",
    "    12: \"Adventure\",\n",
    "    16: \"Animation\",\n",
    "    35: \"Comedy\",\n",
    "    80: \"Crime\",\n",
    "    99: \"Documentary\",\n",
    "    18: \"Drama\",\n",
    "    10751: \"Family\",\n",
    "    14: \"Fantasy\",\n",
    "    36: \"History\",\n",
    "    27: \"Horror\",\n",
    "    10402: \"Music\",\n",
    "    9648: \"Mystery\",\n",
    "    10749: \"Romance\",\n",
    "    878: \"Science Fiction\",\n",
    "    10770: \"TV Movie\",\n",
    "    53: \"Thriller\",\n",
    "    10752: \"War\",\n",
    "    37: \"Western\",\n",
    "}\n",
    "def extract_movie_data(movie):\n",
    "    genre_ids = movie.get(\"genre_ids\", [])\n",
    "    genre_names = [genre_map.get(gid, \"Unknown\") for gid in genre_ids]\n",
    "    \n",
    "    return {\n",
    "        \"title\": movie.get(\"title\", \"N/A\"),\n",
    "        \"rating\": movie.get(\"vote_average\", \"N/A\"),\n",
    "        \"movie_type\": genre_names,\n",
    "        \"overview\": movie.get(\"overview\", \"N/A\"),\n",
    "    }"
   ]
  },
  {
   "cell_type": "code",
   "execution_count": 6,
   "id": "4a61a0bd-d8c4-47e1-b25c-c39b3077c8bc",
   "metadata": {},
   "outputs": [
    {
     "name": "stderr",
     "output_type": "stream",
     "text": [
      "100%|███████████████████████████████████████████████████████████████████████████████████████████████████████████████████████████████████| 500/500 [14:40<00:00,  1.76s/it]\n"
     ]
    }
   ],
   "source": [
    "# all_movies = []\n",
    "# for i in tqdm(range(1, 501)):\n",
    "#     api_url = \"https://api.themoviedb.org/3/movie/top_rated?api_key=8265bd1679663a7ea12ac168da84d2e8&language=en-US&page=1\"\n",
    "#     movies = fetch_movies_pages(api_url, page=i)\n",
    "#     time.sleep(0.2)\n",
    "#     for movie in movies:\n",
    "#         all_movies.append(extract_movie_data(movie))"
   ]
  },
  {
   "cell_type": "code",
   "execution_count": 7,
   "id": "50aa8e9c-2074-4ab5-93c8-0bcc2700f450",
   "metadata": {},
   "outputs": [],
   "source": [
    "df = pd.DataFrame(all_movies)"
   ]
  },
  {
   "cell_type": "code",
   "execution_count": 9,
   "id": "3f0bc7ff-40fb-44e2-ab9c-a187bfa6d243",
   "metadata": {},
   "outputs": [
    {
     "data": {
      "text/plain": [
       "(10000, 4)"
      ]
     },
     "execution_count": 9,
     "metadata": {},
     "output_type": "execute_result"
    }
   ],
   "source": [
    "df.shape"
   ]
  },
  {
   "cell_type": "code",
   "execution_count": 11,
   "id": "9bfe30b1-53db-4815-b496-0bbf41159bcd",
   "metadata": {},
   "outputs": [
    {
     "data": {
      "text/html": [
       "<div>\n",
       "<style scoped>\n",
       "    .dataframe tbody tr th:only-of-type {\n",
       "        vertical-align: middle;\n",
       "    }\n",
       "\n",
       "    .dataframe tbody tr th {\n",
       "        vertical-align: top;\n",
       "    }\n",
       "\n",
       "    .dataframe thead th {\n",
       "        text-align: right;\n",
       "    }\n",
       "</style>\n",
       "<table border=\"1\" class=\"dataframe\">\n",
       "  <thead>\n",
       "    <tr style=\"text-align: right;\">\n",
       "      <th></th>\n",
       "      <th>title</th>\n",
       "      <th>rating</th>\n",
       "      <th>movie_type</th>\n",
       "      <th>overview</th>\n",
       "    </tr>\n",
       "  </thead>\n",
       "  <tbody>\n",
       "    <tr>\n",
       "      <th>9475</th>\n",
       "      <td>Tusk</td>\n",
       "      <td>5.516</td>\n",
       "      <td>[Comedy, Horror]</td>\n",
       "      <td>When his best friend and podcast co-host goes ...</td>\n",
       "    </tr>\n",
       "    <tr>\n",
       "      <th>4345</th>\n",
       "      <td>Nineteen Eighty-Four</td>\n",
       "      <td>6.807</td>\n",
       "      <td>[Drama, Science Fiction]</td>\n",
       "      <td>George Orwell's novel of a totalitarian future...</td>\n",
       "    </tr>\n",
       "    <tr>\n",
       "      <th>5252</th>\n",
       "      <td>Barefoot</td>\n",
       "      <td>6.631</td>\n",
       "      <td>[Comedy, Drama, Romance]</td>\n",
       "      <td>The \"black sheep\" son of a wealthy family meet...</td>\n",
       "    </tr>\n",
       "    <tr>\n",
       "      <th>5904</th>\n",
       "      <td>Before I Wake</td>\n",
       "      <td>6.500</td>\n",
       "      <td>[Drama, Fantasy, Horror, Thriller]</td>\n",
       "      <td>An orphaned child's dreams—and nightmares—mani...</td>\n",
       "    </tr>\n",
       "    <tr>\n",
       "      <th>3289</th>\n",
       "      <td>Don't Be a Menace to South Central While Drink...</td>\n",
       "      <td>7.029</td>\n",
       "      <td>[Comedy, Crime]</td>\n",
       "      <td>When Ashtray moves to South Central L.A. to li...</td>\n",
       "    </tr>\n",
       "    <tr>\n",
       "      <th>7436</th>\n",
       "      <td>White Bird in a Blizzard</td>\n",
       "      <td>6.200</td>\n",
       "      <td>[Thriller, Drama]</td>\n",
       "      <td>In 1988, a teenage girl's life is thrown into ...</td>\n",
       "    </tr>\n",
       "    <tr>\n",
       "      <th>5366</th>\n",
       "      <td>A Christmas Prince</td>\n",
       "      <td>6.606</td>\n",
       "      <td>[Romance, TV Movie]</td>\n",
       "      <td>When a reporter goes undercover as a nanny to ...</td>\n",
       "    </tr>\n",
       "    <tr>\n",
       "      <th>4198</th>\n",
       "      <td>The Man Who Invented Christmas</td>\n",
       "      <td>6.836</td>\n",
       "      <td>[Drama, History, Comedy, Family]</td>\n",
       "      <td>In 1843, despite the fact that Dickens is a su...</td>\n",
       "    </tr>\n",
       "    <tr>\n",
       "      <th>88</th>\n",
       "      <td>Taylor Swift: Reputation Stadium Tour</td>\n",
       "      <td>8.200</td>\n",
       "      <td>[Music]</td>\n",
       "      <td>Taylor Swift takes the stage in Dallas for the...</td>\n",
       "    </tr>\n",
       "    <tr>\n",
       "      <th>5536</th>\n",
       "      <td>Alex Strangelove</td>\n",
       "      <td>6.572</td>\n",
       "      <td>[Comedy, Drama]</td>\n",
       "      <td>Alex Truelove is on a quest to lose his virgin...</td>\n",
       "    </tr>\n",
       "  </tbody>\n",
       "</table>\n",
       "</div>"
      ],
      "text/plain": [
       "                                                  title  rating  \\\n",
       "9475                                               Tusk   5.516   \n",
       "4345                               Nineteen Eighty-Four   6.807   \n",
       "5252                                           Barefoot   6.631   \n",
       "5904                                      Before I Wake   6.500   \n",
       "3289  Don't Be a Menace to South Central While Drink...   7.029   \n",
       "7436                           White Bird in a Blizzard   6.200   \n",
       "5366                                 A Christmas Prince   6.606   \n",
       "4198                     The Man Who Invented Christmas   6.836   \n",
       "88                Taylor Swift: Reputation Stadium Tour   8.200   \n",
       "5536                                   Alex Strangelove   6.572   \n",
       "\n",
       "                              movie_type  \\\n",
       "9475                    [Comedy, Horror]   \n",
       "4345            [Drama, Science Fiction]   \n",
       "5252            [Comedy, Drama, Romance]   \n",
       "5904  [Drama, Fantasy, Horror, Thriller]   \n",
       "3289                     [Comedy, Crime]   \n",
       "7436                   [Thriller, Drama]   \n",
       "5366                 [Romance, TV Movie]   \n",
       "4198    [Drama, History, Comedy, Family]   \n",
       "88                               [Music]   \n",
       "5536                     [Comedy, Drama]   \n",
       "\n",
       "                                               overview  \n",
       "9475  When his best friend and podcast co-host goes ...  \n",
       "4345  George Orwell's novel of a totalitarian future...  \n",
       "5252  The \"black sheep\" son of a wealthy family meet...  \n",
       "5904  An orphaned child's dreams—and nightmares—mani...  \n",
       "3289  When Ashtray moves to South Central L.A. to li...  \n",
       "7436  In 1988, a teenage girl's life is thrown into ...  \n",
       "5366  When a reporter goes undercover as a nanny to ...  \n",
       "4198  In 1843, despite the fact that Dickens is a su...  \n",
       "88    Taylor Swift takes the stage in Dallas for the...  \n",
       "5536  Alex Truelove is on a quest to lose his virgin...  "
      ]
     },
     "execution_count": 11,
     "metadata": {},
     "output_type": "execute_result"
    }
   ],
   "source": [
    "df.sample(10)"
   ]
  },
  {
   "cell_type": "code",
   "execution_count": 12,
   "id": "98d35a7f-8c4c-4eed-b7ac-3024c31c1a37",
   "metadata": {},
   "outputs": [],
   "source": [
    "# df.to_csv(\"Movies_data.csv\", index= False)"
   ]
  }
 ],
 "metadata": {
  "kernelspec": {
   "display_name": "Python 3 (ipykernel)",
   "language": "python",
   "name": "python3"
  },
  "language_info": {
   "codemirror_mode": {
    "name": "ipython",
    "version": 3
   },
   "file_extension": ".py",
   "mimetype": "text/x-python",
   "name": "python",
   "nbconvert_exporter": "python",
   "pygments_lexer": "ipython3",
   "version": "3.10.16"
  },
  "widgets": {
   "application/vnd.jupyter.widget-state+json": {
    "state": {},
    "version_major": 2,
    "version_minor": 0
   }
  }
 },
 "nbformat": 4,
 "nbformat_minor": 5
}
