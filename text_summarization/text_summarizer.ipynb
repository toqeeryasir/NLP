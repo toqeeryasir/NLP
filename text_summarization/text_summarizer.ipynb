{
  "nbformat": 4,
  "nbformat_minor": 0,
  "metadata": {
    "colab": {
      "provenance": []
    },
    "kernelspec": {
      "name": "python3",
      "display_name": "Python 3"
    },
    "language_info": {
      "name": "python"
    }
  },
  "cells": [
    {
      "cell_type": "code",
      "source": [
        "from transformers import pipeline\n",
        "import torch\n",
        "import spacy\n",
        "import gradio as gr\n",
        "\n",
        "\n",
        "class TextSummarizer:\n",
        "  def __init__(self):\n",
        "    self.model= pipeline(\"summarization\", model = \"facebook/bart-large-cnn\", device = 0 if torch.cuda.is_available() else -1)\n",
        "\n",
        "\n",
        "  def chunk_text(self, text, max_chunk = 1024):\n",
        "    nlp = spacy.load(\"en_core_web_sm\")\n",
        "    doc = nlp(text)\n",
        "    sentences = [sent.text for sent in doc.sents]\n",
        "    current_chunk = []\n",
        "    total_chunks = []\n",
        "    for sentence in sentences:\n",
        "      if len(\" \".join(current_chunk + [sentence])) <= max_chunk:\n",
        "        current_chunk.append(sentence)\n",
        "      else:\n",
        "        total_chunks.append(\" \".join(current_chunk))\n",
        "        current_chunk = [sentence]\n",
        "\n",
        "    if current_chunk:\n",
        "      total_chunks.append(\" \".join(current_chunk))\n",
        "    return total_chunks\n",
        "\n",
        "\n",
        "  def summarize(self, text, ratio = 0.2):\n",
        "    chunks = self.chunk_text(text)\n",
        "    summarized_text = []\n",
        "    for chunk in chunks:\n",
        "      output = self.model(chunk, max_length = int(len(chunk.split())*ratio), min_length = int(len(chunk.split())*ratio*0.5), do_sample = False)\n",
        "      summarized_text.append(output[0]['summary_text'])\n",
        "    return \" \".join(summarized_text)\n",
        "\n",
        "\n",
        "summariztxt = TextSummarizer()\n",
        "interface = gr.Interface(\n",
        "    fn = summariztxt.summarize,\n",
        "    inputs = gt.Textbox(lines = 10, placeholder = \"Paste you text here...\"),\n",
        "    outputs = \"text\",\n",
        "    title = \"Text Summarizer\"\n",
        ")\n",
        "\n",
        "interface = interface.launch(share = True)"
      ],
      "metadata": {
        "id": "8Ml_ybhLFTKJ"
      },
      "execution_count": 20,
      "outputs": []
    }
  ]
}