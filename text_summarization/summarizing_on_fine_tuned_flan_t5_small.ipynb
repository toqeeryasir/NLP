{
  "nbformat": 4,
  "nbformat_minor": 0,
  "metadata": {
    "colab": {
      "provenance": []
    },
    "kernelspec": {
      "name": "python3",
      "display_name": "Python 3"
    },
    "language_info": {
      "name": "python"
    }
  },
  "cells": [
    {
      "cell_type": "code",
      "execution_count": null,
      "metadata": {
        "id": "qt3cOUcfjx5X",
        "colab": {
          "base_uri": "https://localhost:8080/"
        },
        "outputId": "91d0069e-c85b-40d1-b486-8385e4e114be"
      },
      "outputs": [
        {
          "output_type": "stream",
          "name": "stdout",
          "text": [
            "Mounted at /content/drive\n"
          ]
        }
      ],
      "source": [
        "from google.colab import drive\n",
        "drive.mount('/content/drive')\n",
        "\n",
        "from transformers import AutoModelForSeq2SeqLM, AutoTokenizer\n",
        "\n",
        "# Path to your saved model\n",
        "model_path = \"/content/drive/MyDrive/flan-t5-summarizer\""
      ]
    },
    {
      "cell_type": "code",
      "source": [
        "# Load model and tokenizer\n",
        "model = AutoModelForSeq2SeqLM.from_pretrained(model_path)\n",
        "tokenizer = AutoTokenizer.from_pretrained(model_path)"
      ],
      "metadata": {
        "id": "QsBxe8qp-MwN"
      },
      "execution_count": null,
      "outputs": []
    },
    {
      "cell_type": "code",
      "source": [
        "def summarize(text):\n",
        "    new_max_length=round(len(text.strip())*0.3)\n",
        "    print(new_max_length)\n",
        "    inputs = tokenizer(text, return_tensors=\"pt\", truncation=True, max_length=1024)\n",
        "    outputs = model.generate(\n",
        "        **inputs,\n",
        "        max_new_tokens=new_max_length,\n",
        "        temperature=0.9,\n",
        "        do_sample=True,\n",
        "        top_k=30,\n",
        "        top_p=0.95,\n",
        "    )\n",
        "    return tokenizer.decode(outputs[0], skip_special_tokens=True)"
      ],
      "metadata": {
        "id": "I3VdcpBcj1BI"
      },
      "execution_count": null,
      "outputs": []
    },
    {
      "cell_type": "code",
      "source": [
        "article = \"\"\"\n",
        "  The rover’s latest analysis of sedimentary rock samples reveals minerals that typically form in water,\n",
        "   along with layered deposits suggesting long-term water flow.\n",
        "    Scientists believe this lake existed around 3.5 billion years ago and may have persisted for thousands of years.\n",
        "     The findings, published in the journal Science, could guide future missions in searching for fossilized signs of ancient Martian life.\n",
        "      Perseverance continues its mission to collect samples for eventual return to Earth.\"\"\"\n",
        "print(\"Summary:\", summarize(article)+ \".\")"
      ],
      "metadata": {
        "id": "750DvSGxj5UP",
        "colab": {
          "base_uri": "https://localhost:8080/"
        },
        "outputId": "83d22bf6-e822-46ed-a451-9a5774fc0bf6"
      },
      "execution_count": null,
      "outputs": [
        {
          "output_type": "stream",
          "name": "stdout",
          "text": [
            "154\n",
            "Summary: Martians found the lake 3.5 billion years ago, and that it had been found to be of interest to scientists..\n"
          ]
        }
      ]
    },
    {
      "cell_type": "code",
      "source": [
        "g"
      ],
      "metadata": {
        "id": "Y_NnG8cw-WtS"
      },
      "execution_count": null,
      "outputs": []
    }
  ]
}